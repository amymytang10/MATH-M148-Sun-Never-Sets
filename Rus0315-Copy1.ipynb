{
 "cells": [
  {
   "cell_type": "code",
   "execution_count": 90,
   "metadata": {},
   "outputs": [],
   "source": [
    "import tarfile\n",
    "import pandas as pd\n",
    "import pyarrow.parquet as pq\n",
    "import numpy as np\n",
    "import matplotlib.pyplot as plt\n",
    "import sklearn.metrics as metrics\n",
    "from sklearn.metrics import confusion_matrix, ConfusionMatrixDisplay\n",
    "pd.set_option('display.max_columns', None)"
   ]
  },
  {
   "cell_type": "code",
   "execution_count": 91,
   "metadata": {},
   "outputs": [],
   "source": [
    "#Load tar.gz file into Python\n",
    "tar = tarfile.open(\"hitdata7days_0.tar.gz\",\"r:gz\")"
   ]
  },
  {
   "cell_type": "code",
   "execution_count": null,
   "metadata": {},
   "outputs": [],
   "source": [
    "#tar.next() example. But be careful to reinstantiate tar when needed\n",
    "tar = tarfile.open(\"hitdata7days_0.tar.gz\",\"r:gz\")\n",
    "tar.next()"
   ]
  },
  {
   "cell_type": "code",
   "execution_count": null,
   "metadata": {},
   "outputs": [],
   "source": [
    "#Extracting filename from TarInfo object\n",
    "tn = tar.next()\n",
    "tn.name"
   ]
  },
  {
   "cell_type": "code",
   "execution_count": 6,
   "metadata": {},
   "outputs": [
    {
     "data": {
      "text/plain": [
       "hitdatahistorymkey: int64\n",
       "filename: string\n",
       "linenumber: int32\n",
       "brandcode: string\n",
       "visitoridhigh: decimal128(20, 0)\n",
       "visitoridlow: decimal128(20, 0)\n",
       "visitnumber: decimal128(10, 0)\n",
       "visitdatetime: timestamp[ns]\n",
       "visitdate: date32[day]\n",
       "visitmonth: int32\n",
       "fiscalyear: int16\n",
       "fiscalmonthnumber: int16\n",
       "fiscalweeknumber: int16\n",
       "hit_time_gmt: decimal128(11, 0)\n",
       "service: string\n",
       "acceptlanguage: string\n",
       "eventlist: string\n",
       "homepage: string\n",
       "ip: string\n",
       "pageevent: decimal128(3, 0)\n",
       "pageeventvar1: string\n",
       "pageeventvar2: string\n",
       "pagetype: string\n",
       "pageurl: string\n",
       "pagename: string\n",
       "productlist: string\n",
       "userserver: string\n",
       "channel: string\n",
       "sitesection: string\n",
       "category: string\n",
       "subcategory: string\n",
       "subcategory2: string\n",
       "pagecategory: string\n",
       "searchterms: string\n",
       "searchresults: string\n",
       "refinementtype: string\n",
       "refinementattribute: string\n",
       "myaccountengagement: string\n",
       "formanalysis: string\n",
       "emailsubscriptionadd: string\n",
       "emailsubscriptionremove: string\n",
       "linklocation: string\n",
       "navigationlinks: string\n",
       "searchtype: string\n",
       "businessunit: string\n",
       "categoryxid: string\n",
       "alternative: string\n",
       "rbtused: string\n",
       "resulttype: string\n",
       "refinementattribute2: string\n",
       "refinementattribute3: string\n",
       "refinementattribute4: string\n",
       "refinementattribute5: string\n",
       "refinementattribute6: string\n",
       "refinementattribute7: string\n",
       "pagetypemerch: string\n",
       "prop29: string\n",
       "flashcreative: string\n",
       "flashcreativeengagement: string\n",
       "pdpengagement: string\n",
       "prop33: string\n",
       "prop34: string\n",
       "prop35: string\n",
       "prop36: string\n",
       "prop37: string\n",
       "prop38: string\n",
       "prop39: string\n",
       "prop40: string\n",
       "prop41: string\n",
       "language: string\n",
       "prop43: string\n",
       "prop44: string\n",
       "prop45: string\n",
       "prop46: string\n",
       "prop47: string\n",
       "prop48: string\n",
       "prop49: string\n",
       "prop50: string\n",
       "ordernumber: string\n",
       "state: string\n",
       "useragent: string\n",
       "zip: string\n",
       "searchengine: decimal128(10, 0)\n",
       "excludehit: decimal128(3, 0)\n",
       "hier1: string\n",
       "hier2: string\n",
       "hier3: string\n",
       "hier4: string\n",
       "hier5: string\n",
       "browser: decimal128(10, 0)\n",
       "postbrowserheight: decimal128(10, 0)\n",
       "postbrowserwidth: decimal128(10, 0)\n",
       "postcookies: string\n",
       "postjavaenabled: string\n",
       "postpersistentcookie: string\n",
       "color: decimal128(10, 0)\n",
       "connectiontype: decimal128(3, 0)\n",
       "country: decimal128(10, 0)\n",
       "domain: string\n",
       "postttimeinfo: string\n",
       "javascript: decimal128(3, 0)\n",
       "language_0001: decimal128(10, 0)\n",
       "os: decimal128(10, 0)\n",
       "plugins: string\n",
       "resolution: decimal128(10, 0)\n",
       "lasthittimegmt: decimal128(11, 0)\n",
       "firsthittimegmt: decimal128(11, 0)\n",
       "visitstarttimegmt: decimal128(11, 0)\n",
       "lastpurchasetimegmt: decimal128(11, 0)\n",
       "lastpurchasenum: decimal128(10, 0)\n",
       "firsthitpagename: string\n",
       "visitstartpagename: string\n",
       "visitsearchengine: decimal128(10, 0)\n",
       "visitpagenum: decimal128(10, 0)\n",
       "prevpage: decimal128(10, 0)\n",
       "geocity: string\n",
       "geocountry: string\n",
       "georegion: string\n",
       "duplicatepurchase: decimal128(3, 0)\n",
       "newvisit: decimal128(3, 0)\n",
       "dailyvisitor: decimal128(3, 0)\n",
       "hourlyvisitor: decimal128(3, 0)\n",
       "monthlyvisitor: decimal128(3, 0)\n",
       "yearlyvisitor: decimal128(3, 0)\n",
       "postcampaign: string\n",
       "sitesection_0001: string\n",
       "category_0001: string\n",
       "subcategory_0001: string\n",
       "subcategory2_0001: string\n",
       "internaltrackingcode: string\n",
       "searchterms_0001: string\n",
       "productfindingmethods: string\n",
       "paymentmethod: string\n",
       "shippingmethod: string\n",
       "ordernumber_0001: string\n",
       "warrantiespresented: string\n",
       "warrantycategory: string\n",
       "crosssoldproduct: string\n",
       "crosssoldinfluence: string\n",
       "crossselltype: string\n",
       "evar16: string\n",
       "promocode: string\n",
       "formanalysis2: string\n",
       "calculatorengagement: string\n",
       "bazaarvoice: string\n",
       "catalogid: string\n",
       "customerconnection: string\n",
       "evar23: string\n",
       "evar24: string\n",
       "evar25: string\n",
       "evar26: string\n",
       "scene7: string\n",
       "evar28: string\n",
       "addonsbuytogether: string\n",
       "addonsymal: string\n",
       "mvtparameters: string\n",
       "evar34: string\n",
       "evar35: string\n",
       "evar36: string\n",
       "evar37: string\n",
       "evar38: string\n",
       "evar39: string\n",
       "language_0002: string\n",
       "freshstartcomplete: string\n",
       "opentobuy: string\n",
       "institutionid: string\n",
       "cdeincreasepayment: string\n",
       "cdedeferredoffer: string\n",
       "cdedspomodel: string\n",
       "cdeemailoptin: string\n",
       "evar48: string\n",
       "paidsearchrawquery: string\n",
       "evar50: string\n",
       "post_evar1: string\n",
       "post_evar2: string\n",
       "post_evar3: string\n",
       "post_evar4: string\n",
       "post_evar5: string\n",
       "post_evar6: string\n",
       "post_evar7: string\n",
       "post_evar8: string\n",
       "post_evar9: string\n",
       "post_evar10: string\n",
       "post_evar11: string\n",
       "post_evar12: string\n",
       "post_evar13: string\n",
       "post_evar14: string\n",
       "post_evar15: string\n",
       "post_evar16: string\n",
       "post_evar17: string\n",
       "post_evar18: string\n",
       "post_evar19: string\n",
       "post_evar20: string\n",
       "post_evar21: string\n",
       "post_evar22: string\n",
       "post_evar23: string\n",
       "post_evar24: string\n",
       "post_evar25: string\n",
       "post_evar26: string\n",
       "post_evar27: string\n",
       "post_evar28: string\n",
       "post_evar29: string\n",
       "post_evar30: string\n",
       "post_evar33: string\n",
       "post_evar34: string\n",
       "post_evar35: string\n",
       "post_evar36: string\n",
       "post_evar37: string\n",
       "post_evar38: string\n",
       "post_evar39: string\n",
       "post_evar40: string\n",
       "post_evar41: string\n",
       "post_evar42: string\n",
       "post_evar43: string\n",
       "post_evar44: string\n",
       "post_evar45: string\n",
       "post_evar46: string\n",
       "post_evar47: string\n",
       "post_evar48: string\n",
       "post_evar49: string\n",
       "post_evar50: string\n",
       "clickaction: string\n",
       "clickactiontype: decimal128(3, 0)\n",
       "clickcontext: string\n",
       "clickcontexttype: decimal128(3, 0)\n",
       "clicksourceid: decimal128(10, 0)\n",
       "clicktag: string\n",
       "visitid: string\n",
       "cookieid: string\n",
       "checkoutthankyouflag: int16\n",
       "evar51: string\n",
       "evar52: string\n",
       "evar53: string\n",
       "evar54: string\n",
       "evar55: string\n",
       "evar56: string\n",
       "evar57: string\n",
       "evar58: string\n",
       "evar59: string\n",
       "evar60: string\n",
       "evar61: string\n",
       "evar62: string\n",
       "evar63: string\n",
       "evar64: string\n",
       "evar65: string\n",
       "evar66: string\n",
       "evar67: string\n",
       "evar68: string\n",
       "evar69: string\n",
       "evar70: string\n",
       "evar71: string\n",
       "evar72: string\n",
       "evar73: string\n",
       "evar74: string\n",
       "evar75: string\n",
       "evar76: string\n",
       "evar77: string\n",
       "evar78: string\n",
       "evar79: string\n",
       "evar80: string\n",
       "evar81: string\n",
       "evar82: string\n",
       "evar83: string\n",
       "evar84: string\n",
       "evar85: string\n",
       "evar86: string\n",
       "evar87: string\n",
       "evar88: string\n",
       "evar89: string\n",
       "evar90: string\n",
       "evar91: string\n",
       "evar92: string\n",
       "evar93: string\n",
       "evar94: string\n",
       "evar95: string\n",
       "evar96: string\n",
       "evar97: string\n",
       "evar98: string\n",
       "evar99: string\n",
       "evar100: string\n",
       "initialloaddate: timestamp[ns]\n",
       "updatedloaddate: timestamp[ns]\n",
       "devicetype: string"
      ]
     },
     "execution_count": 6,
     "metadata": {},
     "output_type": "execute_result"
    }
   ],
   "source": [
    "#Reading info from parquet file\n",
    "pq.read_schema(tn.name)"
   ]
  },
  {
   "cell_type": "code",
   "execution_count": 7,
   "metadata": {},
   "outputs": [],
   "source": [
    "#Read in parquet file as pandas DataFrame\n",
    "df = pd.read_parquet(tn.name)"
   ]
  },
  {
   "cell_type": "code",
   "execution_count": null,
   "metadata": {},
   "outputs": [],
   "source": []
  },
  {
   "cell_type": "code",
   "execution_count": 8,
   "metadata": {},
   "outputs": [],
   "source": [
    "tar4 = tarfile.open(\"hitdata7days_6.tar.gz\",\"r:gz\")"
   ]
  },
  {
   "cell_type": "code",
   "execution_count": 9,
   "metadata": {},
   "outputs": [],
   "source": [
    "tar4.extractall()"
   ]
  },
  {
   "cell_type": "code",
   "execution_count": 10,
   "metadata": {},
   "outputs": [
    {
     "data": {
      "text/plain": [
       "<TarInfo 'hitdata7days/visitday=16' at 0x7f7eeadbb040>"
      ]
     },
     "execution_count": 10,
     "metadata": {},
     "output_type": "execute_result"
    }
   ],
   "source": [
    "tar4 = tarfile.open(\"hitdata7days_6.tar.gz\",\"r:gz\")\n",
    "tar4.next()"
   ]
  },
  {
   "cell_type": "code",
   "execution_count": 11,
   "metadata": {},
   "outputs": [],
   "source": [
    "#Extracting filename from TarInfo object\n",
    "tn4 = tar4.next()"
   ]
  },
  {
   "cell_type": "code",
   "execution_count": 12,
   "metadata": {},
   "outputs": [
    {
     "data": {
      "text/plain": [
       "hitdatahistorymkey: int64\n",
       "filename: string\n",
       "linenumber: int32\n",
       "brandcode: string\n",
       "visitoridhigh: decimal128(20, 0)\n",
       "visitoridlow: decimal128(20, 0)\n",
       "visitnumber: decimal128(10, 0)\n",
       "visitdatetime: timestamp[ns]\n",
       "visitdate: date32[day]\n",
       "visitmonth: int32\n",
       "fiscalyear: int16\n",
       "fiscalmonthnumber: int16\n",
       "fiscalweeknumber: int16\n",
       "hit_time_gmt: decimal128(11, 0)\n",
       "service: string\n",
       "acceptlanguage: string\n",
       "eventlist: string\n",
       "homepage: string\n",
       "ip: string\n",
       "pageevent: decimal128(3, 0)\n",
       "pageeventvar1: string\n",
       "pageeventvar2: string\n",
       "pagetype: string\n",
       "pageurl: string\n",
       "pagename: string\n",
       "productlist: string\n",
       "userserver: string\n",
       "channel: string\n",
       "sitesection: string\n",
       "category: string\n",
       "subcategory: string\n",
       "subcategory2: string\n",
       "pagecategory: string\n",
       "searchterms: string\n",
       "searchresults: string\n",
       "refinementtype: string\n",
       "refinementattribute: string\n",
       "myaccountengagement: string\n",
       "formanalysis: string\n",
       "emailsubscriptionadd: string\n",
       "emailsubscriptionremove: string\n",
       "linklocation: string\n",
       "navigationlinks: string\n",
       "searchtype: string\n",
       "businessunit: string\n",
       "categoryxid: string\n",
       "alternative: string\n",
       "rbtused: string\n",
       "resulttype: string\n",
       "refinementattribute2: string\n",
       "refinementattribute3: string\n",
       "refinementattribute4: string\n",
       "refinementattribute5: string\n",
       "refinementattribute6: string\n",
       "refinementattribute7: string\n",
       "pagetypemerch: string\n",
       "prop29: string\n",
       "flashcreative: string\n",
       "flashcreativeengagement: string\n",
       "pdpengagement: string\n",
       "prop33: string\n",
       "prop34: string\n",
       "prop35: string\n",
       "prop36: string\n",
       "prop37: string\n",
       "prop38: string\n",
       "prop39: string\n",
       "prop40: string\n",
       "prop41: string\n",
       "language: string\n",
       "prop43: string\n",
       "prop44: string\n",
       "prop45: string\n",
       "prop46: string\n",
       "prop47: string\n",
       "prop48: string\n",
       "prop49: string\n",
       "prop50: string\n",
       "ordernumber: string\n",
       "state: string\n",
       "useragent: string\n",
       "zip: string\n",
       "searchengine: decimal128(10, 0)\n",
       "excludehit: decimal128(3, 0)\n",
       "hier1: string\n",
       "hier2: string\n",
       "hier3: string\n",
       "hier4: string\n",
       "hier5: string\n",
       "browser: decimal128(10, 0)\n",
       "postbrowserheight: decimal128(10, 0)\n",
       "postbrowserwidth: decimal128(10, 0)\n",
       "postcookies: string\n",
       "postjavaenabled: string\n",
       "postpersistentcookie: string\n",
       "color: decimal128(10, 0)\n",
       "connectiontype: decimal128(3, 0)\n",
       "country: decimal128(10, 0)\n",
       "domain: string\n",
       "postttimeinfo: string\n",
       "javascript: decimal128(3, 0)\n",
       "language_0001: decimal128(10, 0)\n",
       "os: decimal128(10, 0)\n",
       "plugins: string\n",
       "resolution: decimal128(10, 0)\n",
       "lasthittimegmt: decimal128(11, 0)\n",
       "firsthittimegmt: decimal128(11, 0)\n",
       "visitstarttimegmt: decimal128(11, 0)\n",
       "lastpurchasetimegmt: decimal128(11, 0)\n",
       "lastpurchasenum: decimal128(10, 0)\n",
       "firsthitpagename: string\n",
       "visitstartpagename: string\n",
       "visitsearchengine: decimal128(10, 0)\n",
       "visitpagenum: decimal128(10, 0)\n",
       "prevpage: decimal128(10, 0)\n",
       "geocity: string\n",
       "geocountry: string\n",
       "georegion: string\n",
       "duplicatepurchase: decimal128(3, 0)\n",
       "newvisit: decimal128(3, 0)\n",
       "dailyvisitor: decimal128(3, 0)\n",
       "hourlyvisitor: decimal128(3, 0)\n",
       "monthlyvisitor: decimal128(3, 0)\n",
       "yearlyvisitor: decimal128(3, 0)\n",
       "postcampaign: string\n",
       "sitesection_0001: string\n",
       "category_0001: string\n",
       "subcategory_0001: string\n",
       "subcategory2_0001: string\n",
       "internaltrackingcode: string\n",
       "searchterms_0001: string\n",
       "productfindingmethods: string\n",
       "paymentmethod: string\n",
       "shippingmethod: string\n",
       "ordernumber_0001: string\n",
       "warrantiespresented: string\n",
       "warrantycategory: string\n",
       "crosssoldproduct: string\n",
       "crosssoldinfluence: string\n",
       "crossselltype: string\n",
       "evar16: string\n",
       "promocode: string\n",
       "formanalysis2: string\n",
       "calculatorengagement: string\n",
       "bazaarvoice: string\n",
       "catalogid: string\n",
       "customerconnection: string\n",
       "evar23: string\n",
       "evar24: string\n",
       "evar25: string\n",
       "evar26: string\n",
       "scene7: string\n",
       "evar28: string\n",
       "addonsbuytogether: string\n",
       "addonsymal: string\n",
       "mvtparameters: string\n",
       "evar34: string\n",
       "evar35: string\n",
       "evar36: string\n",
       "evar37: string\n",
       "evar38: string\n",
       "evar39: string\n",
       "language_0002: string\n",
       "freshstartcomplete: string\n",
       "opentobuy: string\n",
       "institutionid: string\n",
       "cdeincreasepayment: string\n",
       "cdedeferredoffer: string\n",
       "cdedspomodel: string\n",
       "cdeemailoptin: string\n",
       "evar48: string\n",
       "paidsearchrawquery: string\n",
       "evar50: string\n",
       "post_evar1: string\n",
       "post_evar2: string\n",
       "post_evar3: string\n",
       "post_evar4: string\n",
       "post_evar5: string\n",
       "post_evar6: string\n",
       "post_evar7: string\n",
       "post_evar8: string\n",
       "post_evar9: string\n",
       "post_evar10: string\n",
       "post_evar11: string\n",
       "post_evar12: string\n",
       "post_evar13: string\n",
       "post_evar14: string\n",
       "post_evar15: string\n",
       "post_evar16: string\n",
       "post_evar17: string\n",
       "post_evar18: string\n",
       "post_evar19: string\n",
       "post_evar20: string\n",
       "post_evar21: string\n",
       "post_evar22: string\n",
       "post_evar23: string\n",
       "post_evar24: string\n",
       "post_evar25: string\n",
       "post_evar26: string\n",
       "post_evar27: string\n",
       "post_evar28: string\n",
       "post_evar29: string\n",
       "post_evar30: string\n",
       "post_evar33: string\n",
       "post_evar34: string\n",
       "post_evar35: string\n",
       "post_evar36: string\n",
       "post_evar37: string\n",
       "post_evar38: string\n",
       "post_evar39: string\n",
       "post_evar40: string\n",
       "post_evar41: string\n",
       "post_evar42: string\n",
       "post_evar43: string\n",
       "post_evar44: string\n",
       "post_evar45: string\n",
       "post_evar46: string\n",
       "post_evar47: string\n",
       "post_evar48: string\n",
       "post_evar49: string\n",
       "post_evar50: string\n",
       "clickaction: string\n",
       "clickactiontype: decimal128(3, 0)\n",
       "clickcontext: string\n",
       "clickcontexttype: decimal128(3, 0)\n",
       "clicksourceid: decimal128(10, 0)\n",
       "clicktag: string\n",
       "visitid: string\n",
       "cookieid: string\n",
       "checkoutthankyouflag: int16\n",
       "evar51: string\n",
       "evar52: string\n",
       "evar53: string\n",
       "evar54: string\n",
       "evar55: string\n",
       "evar56: string\n",
       "evar57: string\n",
       "evar58: string\n",
       "evar59: string\n",
       "evar60: string\n",
       "evar61: string\n",
       "evar62: string\n",
       "evar63: string\n",
       "evar64: string\n",
       "evar65: string\n",
       "evar66: string\n",
       "evar67: string\n",
       "evar68: string\n",
       "evar69: string\n",
       "evar70: string\n",
       "evar71: string\n",
       "evar72: string\n",
       "evar73: string\n",
       "evar74: string\n",
       "evar75: string\n",
       "evar76: string\n",
       "evar77: string\n",
       "evar78: string\n",
       "evar79: string\n",
       "evar80: string\n",
       "evar81: string\n",
       "evar82: string\n",
       "evar83: string\n",
       "evar84: string\n",
       "evar85: string\n",
       "evar86: string\n",
       "evar87: string\n",
       "evar88: string\n",
       "evar89: string\n",
       "evar90: string\n",
       "evar91: string\n",
       "evar92: string\n",
       "evar93: string\n",
       "evar94: string\n",
       "evar95: string\n",
       "evar96: string\n",
       "evar97: string\n",
       "evar98: string\n",
       "evar99: string\n",
       "evar100: string\n",
       "initialloaddate: timestamp[ns]\n",
       "updatedloaddate: timestamp[ns]\n",
       "devicetype: string"
      ]
     },
     "execution_count": 12,
     "metadata": {},
     "output_type": "execute_result"
    }
   ],
   "source": [
    "pq.read_schema(tn4.name)"
   ]
  },
  {
   "cell_type": "code",
   "execution_count": 13,
   "metadata": {},
   "outputs": [],
   "source": [
    "df4 = pd.read_parquet(tn4.name)"
   ]
  },
  {
   "cell_type": "code",
   "execution_count": 14,
   "metadata": {},
   "outputs": [
    {
     "data": {
      "text/plain": [
       "124867"
      ]
     },
     "execution_count": 14,
     "metadata": {},
     "output_type": "execute_result"
    }
   ],
   "source": [
    "len(df['visitid'])"
   ]
  },
  {
   "cell_type": "code",
   "execution_count": 15,
   "metadata": {},
   "outputs": [
    {
     "data": {
      "text/plain": [
       "106559"
      ]
     },
     "execution_count": 15,
     "metadata": {},
     "output_type": "execute_result"
    }
   ],
   "source": [
    "len(df4['visitid'])"
   ]
  },
  {
   "cell_type": "code",
   "execution_count": 16,
   "metadata": {},
   "outputs": [],
   "source": [
    "df = pd.concat([df, df4], ignore_index = True)"
   ]
  },
  {
   "cell_type": "markdown",
   "metadata": {},
   "source": [
    "## Select Columns"
   ]
  },
  {
   "cell_type": "code",
   "execution_count": 17,
   "metadata": {},
   "outputs": [],
   "source": [
    "useful_columns = ['visitnumber',\n",
    "                  'service', \n",
    "                  'emailsubscriptionremove', # change to boolean \n",
    "                  'refinementattribute2', # maximize, change to boolean\n",
    "                  'prop29', # type of customer\n",
    "                  'prop33', # Customer Lifestage Segment\n",
    "                  'prop44', # Customer Attribute Tagging\n",
    "                  'prop50', # error message change to boolean\n",
    "                  'color', 'connectiontype',\n",
    "                  'geocountry', \n",
    "                  'newvisit', \n",
    "                  'monthlyvisitor', \n",
    "                  'productfindingmethods',\n",
    "                  'evar16', # attempted promocode                  \n",
    "                  'evar28', # Marketing Segment Name\n",
    "                  'clickactiontype',\n",
    "                  'clickcontexttype', # boolean\n",
    "                  'clicktag',\n",
    "                  'devicetype',\n",
    "                  'evar89',\n",
    "                  'evar83',\n",
    "                  'ordernumber',\n",
    "                  'visitid'] "
   ]
  },
  {
   "cell_type": "code",
   "execution_count": 18,
   "metadata": {},
   "outputs": [],
   "source": [
    "df_clean = df[useful_columns]"
   ]
  },
  {
   "cell_type": "code",
   "execution_count": 19,
   "metadata": {},
   "outputs": [],
   "source": [
    "# remove columns only contain one value (ex. None)\n",
    "df_clean = df_clean.dropna(thresh=2, axis=1)\n",
    "# replace none with NA\n",
    "df_clean = df_clean.replace(['None'],np.nan)\n",
    "df_clean = df_clean.replace(r'^\\s*$', np.nan, regex=True)"
   ]
  },
  {
   "cell_type": "markdown",
   "metadata": {},
   "source": [
    "## Column Modification"
   ]
  },
  {
   "cell_type": "code",
   "execution_count": 20,
   "metadata": {
    "scrolled": true
   },
   "outputs": [],
   "source": [
    "df_clean[['visitnumber', 'evar83']]=df_clean[['visitnumber', 'evar83']].apply(pd.to_numeric)"
   ]
  },
  {
   "cell_type": "code",
   "execution_count": 21,
   "metadata": {},
   "outputs": [],
   "source": [
    "## Try!!!!\n",
    "dff = df_clean.copy()\n",
    "dff = dff.groupby('visitid').fillna(method = 'ffill')\n",
    "dff['visitid'] = df_clean['visitid']"
   ]
  },
  {
   "cell_type": "code",
   "execution_count": 22,
   "metadata": {},
   "outputs": [],
   "source": [
    "dff = dff.groupby('visitid').fillna(method = \"bfill\")"
   ]
  },
  {
   "cell_type": "code",
   "execution_count": 23,
   "metadata": {},
   "outputs": [],
   "source": [
    "dff['visitid'] = df_clean['visitid']"
   ]
  },
  {
   "cell_type": "code",
   "execution_count": 24,
   "metadata": {
    "scrolled": true
   },
   "outputs": [],
   "source": [
    "df_clean = dff.copy()\n",
    "df_clean[['remove_email']] = df_clean[['emailsubscriptionremove']].notnull()\n",
    "df_clean[['close_look']] = df_clean[['refinementattribute2']].notnull()\n",
    "df_clean[['error_message']] = df_clean[['prop50']].notnull()\n",
    "\n",
    "df_clean[['clicktag']] = df_clean[['clicktag']].fillna('Noclick')\n",
    "df_clean[['prop29']] = df_clean[['prop29']].fillna('unknown')\n",
    "df_clean[['evar28']] = df_clean[['evar28']].fillna('unknown')\n",
    "df_clean[['prop33']] = df_clean[['prop33']].fillna('unknown')\n",
    "df_clean['productfindingmethods'] = df_clean['productfindingmethods'].fillna('other')\n",
    "df_clean[['evar89']] = df_clean[['evar89']].fillna('unknown')\n",
    "\n",
    "df_clean[['attempt_promo']] = df_clean[['evar16']].notnull()\n",
    "df_clean[['prop44']] = df_clean[['prop44']].fillna('Others')\n",
    "\n",
    "df_clean[['made_purchase']] = df_clean[['ordernumber']].notnull()"
   ]
  },
  {
   "cell_type": "code",
   "execution_count": 25,
   "metadata": {},
   "outputs": [],
   "source": [
    "df_clean[['Marketing_Segment_Name']] = df_clean[['evar28']]\n",
    "df_clean[['Type_of_customer']] = df_clean[['prop29']]\n",
    "df_clean[['Customer_Lifestage_Segment']] = df_clean[['prop33']]\n",
    "df_clean[['Customer_Attribute_Tagging']] = df_clean[['prop44']]\n",
    "df_clean[['Paid_Search_Engine']] = df_clean[['evar89']]\n",
    "df_clean[['Behavior_Score']] = df_clean[['evar83']]"
   ]
  },
  {
   "cell_type": "markdown",
   "metadata": {},
   "source": [
    "## Drop Columns"
   ]
  },
  {
   "cell_type": "code",
   "execution_count": 26,
   "metadata": {},
   "outputs": [],
   "source": [
    "df_clean = df_clean.drop(['ordernumber', 'emailsubscriptionremove', 'refinementattribute2',\n",
    "                          'prop50', 'visitid', 'visitnumber', 'evar16', 'evar28', 'prop29',\n",
    "                          'prop33', 'prop44', 'evar89', 'evar83', 'Behavior_Score'],\n",
    "                          axis=1)"
   ]
  },
  {
   "cell_type": "code",
   "execution_count": 27,
   "metadata": {
    "scrolled": true
   },
   "outputs": [
    {
     "data": {
      "text/plain": [
       "service                       0.0\n",
       "remove_email                  0.0\n",
       "Customer_Attribute_Tagging    0.0\n",
       "Customer_Lifestage_Segment    0.0\n",
       "Type_of_customer              0.0\n",
       "Marketing_Segment_Name        0.0\n",
       "made_purchase                 0.0\n",
       "attempt_promo                 0.0\n",
       "error_message                 0.0\n",
       "close_look                    0.0\n",
       "devicetype                    0.0\n",
       "color                         0.0\n",
       "clicktag                      0.0\n",
       "clickcontexttype              0.0\n",
       "clickactiontype               0.0\n",
       "productfindingmethods         0.0\n",
       "monthlyvisitor                0.0\n",
       "newvisit                      0.0\n",
       "geocountry                    0.0\n",
       "connectiontype                0.0\n",
       "Paid_Search_Engine            0.0\n",
       "dtype: float64"
      ]
     },
     "execution_count": 27,
     "metadata": {},
     "output_type": "execute_result"
    }
   ],
   "source": [
    "df_clean.isnull().mean().round(10).mul(100).sort_values(ascending=False)"
   ]
  },
  {
   "cell_type": "code",
   "execution_count": 28,
   "metadata": {},
   "outputs": [],
   "source": [
    "corr_matrix = df_clean.corr().abs()\n",
    "\n",
    "high_corr_var=np.where(corr_matrix>0.7)\n",
    "high_corr_var=[(corr_matrix.columns[x],corr_matrix.columns[y]) for x,y in zip(*high_corr_var) if x!=y and x<y]"
   ]
  },
  {
   "cell_type": "markdown",
   "metadata": {},
   "source": [
    "## Resample Dataset"
   ]
  },
  {
   "cell_type": "code",
   "execution_count": 29,
   "metadata": {},
   "outputs": [
    {
     "data": {
      "text/plain": [
       "55659"
      ]
     },
     "execution_count": 29,
     "metadata": {},
     "output_type": "execute_result"
    }
   ],
   "source": [
    "df_purchase = df_clean[df_clean['made_purchase']==1]\n",
    "df_not_purchase = df_clean[df_clean['made_purchase']==0]\n",
    "len(df_purchase)"
   ]
  },
  {
   "cell_type": "code",
   "execution_count": 30,
   "metadata": {},
   "outputs": [
    {
     "data": {
      "text/plain": [
       "175767"
      ]
     },
     "execution_count": 30,
     "metadata": {},
     "output_type": "execute_result"
    }
   ],
   "source": [
    "len(df_not_purchase)"
   ]
  },
  {
   "cell_type": "code",
   "execution_count": 31,
   "metadata": {},
   "outputs": [],
   "source": [
    "df_purchase_sample = df_purchase.sample(60000, random_state = 2001, replace=True)\n",
    "df_not_purchase_sample = df_not_purchase.sample(60000, random_state = 2001, replace=True)\n",
    "df_sample = pd.concat([df_purchase_sample, df_not_purchase_sample])"
   ]
  },
  {
   "cell_type": "code",
   "execution_count": 32,
   "metadata": {},
   "outputs": [],
   "source": [
    "df_clean = df_sample.copy()"
   ]
  },
  {
   "cell_type": "markdown",
   "metadata": {},
   "source": [
    "## Gradient Boosting Classifier"
   ]
  },
  {
   "cell_type": "code",
   "execution_count": 33,
   "metadata": {},
   "outputs": [],
   "source": [
    "from sklearn.model_selection import RandomizedSearchCV, train_test_split\n",
    "from sklearn.preprocessing import LabelEncoder\n",
    "from sklearn.ensemble import HistGradientBoostingClassifier"
   ]
  },
  {
   "cell_type": "code",
   "execution_count": 34,
   "metadata": {},
   "outputs": [],
   "source": [
    "for column in df_clean.columns:\n",
    "    le = LabelEncoder()\n",
    "    labels = le.fit_transform(df_clean[column])\n",
    "    df_clean[column] = labels"
   ]
  },
  {
   "cell_type": "code",
   "execution_count": 35,
   "metadata": {},
   "outputs": [],
   "source": [
    "# Split the data into features (X) and target (y)\n",
    "X = df_clean.drop(['made_purchase'], axis=1)\n",
    "y = df_clean['made_purchase']\n",
    "\n",
    "# Split the data into training and test sets\n",
    "X_train, X_test, y_train, y_test = train_test_split(X, y, test_size=0.3)"
   ]
  },
  {
   "cell_type": "code",
   "execution_count": 36,
   "metadata": {},
   "outputs": [
    {
     "data": {
      "text/html": [
       "<style>#sk-container-id-1 {color: black;background-color: white;}#sk-container-id-1 pre{padding: 0;}#sk-container-id-1 div.sk-toggleable {background-color: white;}#sk-container-id-1 label.sk-toggleable__label {cursor: pointer;display: block;width: 100%;margin-bottom: 0;padding: 0.3em;box-sizing: border-box;text-align: center;}#sk-container-id-1 label.sk-toggleable__label-arrow:before {content: \"▸\";float: left;margin-right: 0.25em;color: #696969;}#sk-container-id-1 label.sk-toggleable__label-arrow:hover:before {color: black;}#sk-container-id-1 div.sk-estimator:hover label.sk-toggleable__label-arrow:before {color: black;}#sk-container-id-1 div.sk-toggleable__content {max-height: 0;max-width: 0;overflow: hidden;text-align: left;background-color: #f0f8ff;}#sk-container-id-1 div.sk-toggleable__content pre {margin: 0.2em;color: black;border-radius: 0.25em;background-color: #f0f8ff;}#sk-container-id-1 input.sk-toggleable__control:checked~div.sk-toggleable__content {max-height: 200px;max-width: 100%;overflow: auto;}#sk-container-id-1 input.sk-toggleable__control:checked~label.sk-toggleable__label-arrow:before {content: \"▾\";}#sk-container-id-1 div.sk-estimator input.sk-toggleable__control:checked~label.sk-toggleable__label {background-color: #d4ebff;}#sk-container-id-1 div.sk-label input.sk-toggleable__control:checked~label.sk-toggleable__label {background-color: #d4ebff;}#sk-container-id-1 input.sk-hidden--visually {border: 0;clip: rect(1px 1px 1px 1px);clip: rect(1px, 1px, 1px, 1px);height: 1px;margin: -1px;overflow: hidden;padding: 0;position: absolute;width: 1px;}#sk-container-id-1 div.sk-estimator {font-family: monospace;background-color: #f0f8ff;border: 1px dotted black;border-radius: 0.25em;box-sizing: border-box;margin-bottom: 0.5em;}#sk-container-id-1 div.sk-estimator:hover {background-color: #d4ebff;}#sk-container-id-1 div.sk-parallel-item::after {content: \"\";width: 100%;border-bottom: 1px solid gray;flex-grow: 1;}#sk-container-id-1 div.sk-label:hover label.sk-toggleable__label {background-color: #d4ebff;}#sk-container-id-1 div.sk-serial::before {content: \"\";position: absolute;border-left: 1px solid gray;box-sizing: border-box;top: 0;bottom: 0;left: 50%;z-index: 0;}#sk-container-id-1 div.sk-serial {display: flex;flex-direction: column;align-items: center;background-color: white;padding-right: 0.2em;padding-left: 0.2em;position: relative;}#sk-container-id-1 div.sk-item {position: relative;z-index: 1;}#sk-container-id-1 div.sk-parallel {display: flex;align-items: stretch;justify-content: center;background-color: white;position: relative;}#sk-container-id-1 div.sk-item::before, #sk-container-id-1 div.sk-parallel-item::before {content: \"\";position: absolute;border-left: 1px solid gray;box-sizing: border-box;top: 0;bottom: 0;left: 50%;z-index: -1;}#sk-container-id-1 div.sk-parallel-item {display: flex;flex-direction: column;z-index: 1;position: relative;background-color: white;}#sk-container-id-1 div.sk-parallel-item:first-child::after {align-self: flex-end;width: 50%;}#sk-container-id-1 div.sk-parallel-item:last-child::after {align-self: flex-start;width: 50%;}#sk-container-id-1 div.sk-parallel-item:only-child::after {width: 0;}#sk-container-id-1 div.sk-dashed-wrapped {border: 1px dashed gray;margin: 0 0.4em 0.5em 0.4em;box-sizing: border-box;padding-bottom: 0.4em;background-color: white;}#sk-container-id-1 div.sk-label label {font-family: monospace;font-weight: bold;display: inline-block;line-height: 1.2em;}#sk-container-id-1 div.sk-label-container {text-align: center;}#sk-container-id-1 div.sk-container {/* jupyter's `normalize.less` sets `[hidden] { display: none; }` but bootstrap.min.css set `[hidden] { display: none !important; }` so we also need the `!important` here to be able to override the default hidden behavior on the sphinx rendered scikit-learn.org. See: https://github.com/scikit-learn/scikit-learn/issues/21755 */display: inline-block !important;position: relative;}#sk-container-id-1 div.sk-text-repr-fallback {display: none;}</style><div id=\"sk-container-id-1\" class=\"sk-top-container\"><div class=\"sk-text-repr-fallback\"><pre>HistGradientBoostingClassifier()</pre><b>In a Jupyter environment, please rerun this cell to show the HTML representation or trust the notebook. <br />On GitHub, the HTML representation is unable to render, please try loading this page with nbviewer.org.</b></div><div class=\"sk-container\" hidden><div class=\"sk-item\"><div class=\"sk-estimator sk-toggleable\"><input class=\"sk-toggleable__control sk-hidden--visually\" id=\"sk-estimator-id-1\" type=\"checkbox\" checked><label for=\"sk-estimator-id-1\" class=\"sk-toggleable__label sk-toggleable__label-arrow\">HistGradientBoostingClassifier</label><div class=\"sk-toggleable__content\"><pre>HistGradientBoostingClassifier()</pre></div></div></div></div></div>"
      ],
      "text/plain": [
       "HistGradientBoostingClassifier()"
      ]
     },
     "execution_count": 36,
     "metadata": {},
     "output_type": "execute_result"
    }
   ],
   "source": [
    "clf = HistGradientBoostingClassifier().fit(X, y)\n",
    "clf.fit(X_train, y_train)"
   ]
  },
  {
   "cell_type": "code",
   "execution_count": 37,
   "metadata": {},
   "outputs": [
    {
     "data": {
      "text/plain": [
       "0.8709166666666667"
      ]
     },
     "execution_count": 37,
     "metadata": {},
     "output_type": "execute_result"
    }
   ],
   "source": [
    "clf.score(X_test, y_test)"
   ]
  },
  {
   "cell_type": "code",
   "execution_count": 38,
   "metadata": {},
   "outputs": [
    {
     "data": {
      "image/png": "[encoded data removed]",
      "text/plain": [
       "<Figure size 432x288 with 1 Axes>"
      ]
     },
     "metadata": {
      "needs_background": "light"
     },
     "output_type": "display_data"
    }
   ],
   "source": [
    "# ROC curve\n",
    "\n",
    "probs = clf.predict_proba(X_test)\n",
    "preds = probs[:,1]\n",
    "fpr, tpr, threshold = metrics.roc_curve(y_test, preds)\n",
    "roc_auc = metrics.auc(fpr, tpr)\n",
    "\n",
    "plt.title('ROC Curve (Gradient Boosting)')\n",
    "plt.plot(fpr, tpr, 'b', label = 'AUC = %0.2f' % roc_auc)\n",
    "plt.legend(loc = 'lower right')\n",
    "plt.plot([0, 1], [0, 1],'r--')\n",
    "plt.xlim([0, 1])\n",
    "plt.ylim([0, 1])\n",
    "plt.ylabel('True Positive Rate')\n",
    "plt.xlabel('False Positive Rate')\n",
    "plt.show()"
   ]
  },
  {
   "cell_type": "markdown",
   "metadata": {},
   "source": [
    "## XGBoost"
   ]
  },
  {
   "cell_type": "code",
   "execution_count": 102,
   "metadata": {},
   "outputs": [],
   "source": [
    "import xgboost\n",
    "from xgboost import XGBClassifier\n",
    "from xgboost import plot_importance"
   ]
  },
  {
   "cell_type": "code",
   "execution_count": 103,
   "metadata": {},
   "outputs": [
    {
     "data": {
      "text/html": [
       "<style>#sk-container-id-6 {color: black;background-color: white;}#sk-container-id-6 pre{padding: 0;}#sk-container-id-6 div.sk-toggleable {background-color: white;}#sk-container-id-6 label.sk-toggleable__label {cursor: pointer;display: block;width: 100%;margin-bottom: 0;padding: 0.3em;box-sizing: border-box;text-align: center;}#sk-container-id-6 label.sk-toggleable__label-arrow:before {content: \"▸\";float: left;margin-right: 0.25em;color: #696969;}#sk-container-id-6 label.sk-toggleable__label-arrow:hover:before {color: black;}#sk-container-id-6 div.sk-estimator:hover label.sk-toggleable__label-arrow:before {color: black;}#sk-container-id-6 div.sk-toggleable__content {max-height: 0;max-width: 0;overflow: hidden;text-align: left;background-color: #f0f8ff;}#sk-container-id-6 div.sk-toggleable__content pre {margin: 0.2em;color: black;border-radius: 0.25em;background-color: #f0f8ff;}#sk-container-id-6 input.sk-toggleable__control:checked~div.sk-toggleable__content {max-height: 200px;max-width: 100%;overflow: auto;}#sk-container-id-6 input.sk-toggleable__control:checked~label.sk-toggleable__label-arrow:before {content: \"▾\";}#sk-container-id-6 div.sk-estimator input.sk-toggleable__control:checked~label.sk-toggleable__label {background-color: #d4ebff;}#sk-container-id-6 div.sk-label input.sk-toggleable__control:checked~label.sk-toggleable__label {background-color: #d4ebff;}#sk-container-id-6 input.sk-hidden--visually {border: 0;clip: rect(1px 1px 1px 1px);clip: rect(1px, 1px, 1px, 1px);height: 1px;margin: -1px;overflow: hidden;padding: 0;position: absolute;width: 1px;}#sk-container-id-6 div.sk-estimator {font-family: monospace;background-color: #f0f8ff;border: 1px dotted black;border-radius: 0.25em;box-sizing: border-box;margin-bottom: 0.5em;}#sk-container-id-6 div.sk-estimator:hover {background-color: #d4ebff;}#sk-container-id-6 div.sk-parallel-item::after {content: \"\";width: 100%;border-bottom: 1px solid gray;flex-grow: 1;}#sk-container-id-6 div.sk-label:hover label.sk-toggleable__label {background-color: #d4ebff;}#sk-container-id-6 div.sk-serial::before {content: \"\";position: absolute;border-left: 1px solid gray;box-sizing: border-box;top: 0;bottom: 0;left: 50%;z-index: 0;}#sk-container-id-6 div.sk-serial {display: flex;flex-direction: column;align-items: center;background-color: white;padding-right: 0.2em;padding-left: 0.2em;position: relative;}#sk-container-id-6 div.sk-item {position: relative;z-index: 1;}#sk-container-id-6 div.sk-parallel {display: flex;align-items: stretch;justify-content: center;background-color: white;position: relative;}#sk-container-id-6 div.sk-item::before, #sk-container-id-6 div.sk-parallel-item::before {content: \"\";position: absolute;border-left: 1px solid gray;box-sizing: border-box;top: 0;bottom: 0;left: 50%;z-index: -1;}#sk-container-id-6 div.sk-parallel-item {display: flex;flex-direction: column;z-index: 1;position: relative;background-color: white;}#sk-container-id-6 div.sk-parallel-item:first-child::after {align-self: flex-end;width: 50%;}#sk-container-id-6 div.sk-parallel-item:last-child::after {align-self: flex-start;width: 50%;}#sk-container-id-6 div.sk-parallel-item:only-child::after {width: 0;}#sk-container-id-6 div.sk-dashed-wrapped {border: 1px dashed gray;margin: 0 0.4em 0.5em 0.4em;box-sizing: border-box;padding-bottom: 0.4em;background-color: white;}#sk-container-id-6 div.sk-label label {font-family: monospace;font-weight: bold;display: inline-block;line-height: 1.2em;}#sk-container-id-6 div.sk-label-container {text-align: center;}#sk-container-id-6 div.sk-container {/* jupyter's `normalize.less` sets `[hidden] { display: none; }` but bootstrap.min.css set `[hidden] { display: none !important; }` so we also need the `!important` here to be able to override the default hidden behavior on the sphinx rendered scikit-learn.org. See: https://github.com/scikit-learn/scikit-learn/issues/21755 */display: inline-block !important;position: relative;}#sk-container-id-6 div.sk-text-repr-fallback {display: none;}</style><div id=\"sk-container-id-6\" class=\"sk-top-container\"><div class=\"sk-text-repr-fallback\"><pre>XGBClassifier(base_score=None, booster=None, callbacks=None,\n",
       "              colsample_bylevel=None, colsample_bynode=None,\n",
       "              colsample_bytree=None, early_stopping_rounds=None,\n",
       "              enable_categorical=False, eval_metric=None, feature_types=None,\n",
       "              gamma=None, gpu_id=None, grow_policy=None, importance_type=None,\n",
       "              interaction_constraints=None, learning_rate=None, max_bin=None,\n",
       "              max_cat_threshold=None, max_cat_to_onehot=None,\n",
       "              max_delta_step=None, max_depth=None, max_leaves=None,\n",
       "              min_child_weight=None, missing=nan, monotone_constraints=None,\n",
       "              n_estimators=100, n_jobs=None, num_parallel_tree=None,\n",
       "              predictor=None, random_state=None, ...)</pre><b>In a Jupyter environment, please rerun this cell to show the HTML representation or trust the notebook. <br />On GitHub, the HTML representation is unable to render, please try loading this page with nbviewer.org.</b></div><div class=\"sk-container\" hidden><div class=\"sk-item\"><div class=\"sk-estimator sk-toggleable\"><input class=\"sk-toggleable__control sk-hidden--visually\" id=\"sk-estimator-id-6\" type=\"checkbox\" checked><label for=\"sk-estimator-id-6\" class=\"sk-toggleable__label sk-toggleable__label-arrow\">XGBClassifier</label><div class=\"sk-toggleable__content\"><pre>XGBClassifier(base_score=None, booster=None, callbacks=None,\n",
       "              colsample_bylevel=None, colsample_bynode=None,\n",
       "              colsample_bytree=None, early_stopping_rounds=None,\n",
       "              enable_categorical=False, eval_metric=None, feature_types=None,\n",
       "              gamma=None, gpu_id=None, grow_policy=None, importance_type=None,\n",
       "              interaction_constraints=None, learning_rate=None, max_bin=None,\n",
       "              max_cat_threshold=None, max_cat_to_onehot=None,\n",
       "              max_delta_step=None, max_depth=None, max_leaves=None,\n",
       "              min_child_weight=None, missing=nan, monotone_constraints=None,\n",
       "              n_estimators=100, n_jobs=None, num_parallel_tree=None,\n",
       "              predictor=None, random_state=None, ...)</pre></div></div></div></div></div>"
      ],
      "text/plain": [
       "XGBClassifier(base_score=None, booster=None, callbacks=None,\n",
       "              colsample_bylevel=None, colsample_bynode=None,\n",
       "              colsample_bytree=None, early_stopping_rounds=None,\n",
       "              enable_categorical=False, eval_metric=None, feature_types=None,\n",
       "              gamma=None, gpu_id=None, grow_policy=None, importance_type=None,\n",
       "              interaction_constraints=None, learning_rate=None, max_bin=None,\n",
       "              max_cat_threshold=None, max_cat_to_onehot=None,\n",
       "              max_delta_step=None, max_depth=None, max_leaves=None,\n",
       "              min_child_weight=None, missing=nan, monotone_constraints=None,\n",
       "              n_estimators=100, n_jobs=None, num_parallel_tree=None,\n",
       "              predictor=None, random_state=None, ...)"
      ]
     },
     "execution_count": 103,
     "metadata": {},
     "output_type": "execute_result"
    }
   ],
   "source": [
    "xgb_model = XGBClassifier()\n",
    "xgb_model.fit(X_train, y_train)"
   ]
  },
  {
   "cell_type": "code",
   "execution_count": 104,
   "metadata": {},
   "outputs": [
    {
     "data": {
      "text/plain": [
       "0.8971111111111111"
      ]
     },
     "execution_count": 104,
     "metadata": {},
     "output_type": "execute_result"
    }
   ],
   "source": [
    "xgb_model.score(X_test, y_test)"
   ]
  },
  {
   "cell_type": "code",
   "execution_count": 105,
   "metadata": {},
   "outputs": [],
   "source": [
    "from matplotlib import pyplot as plt"
   ]
  },
  {
   "cell_type": "code",
   "execution_count": 106,
   "metadata": {
    "scrolled": false
   },
   "outputs": [
    {
     "data": {
      "text/plain": [
       "<Figure size 1440x576 with 0 Axes>"
      ]
     },
     "metadata": {},
     "output_type": "display_data"
    },
    {
     "data": {
      "image/png": "[encoded data removed]",
      "text/plain": [
       "<Figure size 432x288 with 1 Axes>"
      ]
     },
     "metadata": {
      "needs_background": "light"
     },
     "output_type": "display_data"
    }
   ],
   "source": [
    "plt.figure(figsize=(20,8))\n",
    "plot_importance(xgb_model)\n",
    "plt.show()"
   ]
  },
  {
   "cell_type": "code",
   "execution_count": 107,
   "metadata": {},
   "outputs": [
    {
     "data": {
      "text/plain": [
       "array([[16256,  1801],\n",
       "       [ 1903, 16040]])"
      ]
     },
     "execution_count": 107,
     "metadata": {},
     "output_type": "execute_result"
    }
   ],
   "source": [
    "y_preds = xgb_model.predict(X_test)\n",
    "confusion_matrix(y_test, y_preds)"
   ]
  },
  {
   "cell_type": "code",
   "execution_count": 108,
   "metadata": {},
   "outputs": [
    {
     "data": {
      "image/png": "[encoded data removed]",
      "text/plain": [
       "<Figure size 432x288 with 2 Axes>"
      ]
     },
     "metadata": {
      "needs_background": "light"
     },
     "output_type": "display_data"
    }
   ],
   "source": [
    "cm = confusion_matrix(y_test, y_preds, labels = xgb_model.classes_)\n",
    "disp = ConfusionMatrixDisplay(confusion_matrix = cm, display_labels = xgb_model.classes_)\n",
    "disp.plot(cmap=plt.cm.Blues) \n",
    "disp.ax_.set_title(\"XGBoost Confusion Matrix\")\n",
    "plt.show()"
   ]
  },
  {
   "cell_type": "code",
   "execution_count": 47,
   "metadata": {},
   "outputs": [
    {
     "data": {
      "image/png": "[encoded data removed]",
      "text/plain": [
       "<Figure size 432x288 with 2 Axes>"
      ]
     },
     "metadata": {
      "needs_background": "light"
     },
     "output_type": "display_data"
    }
   ],
   "source": [
    "cm = confusion_matrix(y_test, y_preds, labels=xgb_model.classes_)\n",
    "disp = ConfusionMatrixDisplay(confusion_matrix=cm, display_labels=xgb_model.classes_)\n",
    "disp.plot()\n",
    "plt.savefig('xgb_confusion.png')\n",
    "plt.show()"
   ]
  },
  {
   "cell_type": "code",
   "execution_count": 49,
   "metadata": {
    "scrolled": true
   },
   "outputs": [
    {
     "data": {
      "image/png": "[encoded data removed]",
      "text/plain": [
       "<Figure size 432x288 with 1 Axes>"
      ]
     },
     "metadata": {
      "needs_background": "light"
     },
     "output_type": "display_data"
    }
   ],
   "source": [
    "# ROC curve\n",
    "\n",
    "probs = xgb_model.predict_proba(X_test)\n",
    "preds = probs[:,1]\n",
    "fpr, tpr, threshold = metrics.roc_curve(y_test, preds)\n",
    "roc_auc = metrics.auc(fpr, tpr)\n",
    "\n",
    "plt.title('ROC Curve (XGBoost)')\n",
    "plt.plot(fpr, tpr, 'b', label = 'AUC = %0.2f' % roc_auc)\n",
    "plt.legend(loc = 'lower right')\n",
    "plt.plot([0, 1], [0, 1],'r--')\n",
    "plt.xlim([0, 1])\n",
    "plt.ylim([0, 1])\n",
    "plt.ylabel('True Positive Rate')\n",
    "plt.xlabel('False Positive Rate')\n",
    "plt.savefig('roc_xgb.png')\n",
    "plt.show()"
   ]
  },
  {
   "cell_type": "markdown",
   "metadata": {},
   "source": [
    "## Random Forest"
   ]
  },
  {
   "cell_type": "code",
   "execution_count": 109,
   "metadata": {},
   "outputs": [],
   "source": [
    "from sklearn.model_selection import train_test_split\n",
    "from sklearn.ensemble import RandomForestClassifier\n",
    "import seaborn as sns\n",
    "from sklearn.metrics import confusion_matrix, ConfusionMatrixDisplay"
   ]
  },
  {
   "cell_type": "code",
   "execution_count": 110,
   "metadata": {},
   "outputs": [
    {
     "name": "stderr",
     "output_type": "stream",
     "text": [
      "/Users/amytang10/opt/anaconda3/lib/python3.8/site-packages/sklearn/ensemble/_forest.py:424: FutureWarning: `max_features='auto'` has been deprecated in 1.1 and will be removed in 1.3. To keep the past behaviour, explicitly set `max_features='sqrt'` or remove this parameter as it is also the default value for RandomForestClassifiers and ExtraTreesClassifiers.\n",
      "  warn(\n"
     ]
    },
    {
     "data": {
      "text/html": [
       "<style>#sk-container-id-7 {color: black;background-color: white;}#sk-container-id-7 pre{padding: 0;}#sk-container-id-7 div.sk-toggleable {background-color: white;}#sk-container-id-7 label.sk-toggleable__label {cursor: pointer;display: block;width: 100%;margin-bottom: 0;padding: 0.3em;box-sizing: border-box;text-align: center;}#sk-container-id-7 label.sk-toggleable__label-arrow:before {content: \"▸\";float: left;margin-right: 0.25em;color: #696969;}#sk-container-id-7 label.sk-toggleable__label-arrow:hover:before {color: black;}#sk-container-id-7 div.sk-estimator:hover label.sk-toggleable__label-arrow:before {color: black;}#sk-container-id-7 div.sk-toggleable__content {max-height: 0;max-width: 0;overflow: hidden;text-align: left;background-color: #f0f8ff;}#sk-container-id-7 div.sk-toggleable__content pre {margin: 0.2em;color: black;border-radius: 0.25em;background-color: #f0f8ff;}#sk-container-id-7 input.sk-toggleable__control:checked~div.sk-toggleable__content {max-height: 200px;max-width: 100%;overflow: auto;}#sk-container-id-7 input.sk-toggleable__control:checked~label.sk-toggleable__label-arrow:before {content: \"▾\";}#sk-container-id-7 div.sk-estimator input.sk-toggleable__control:checked~label.sk-toggleable__label {background-color: #d4ebff;}#sk-container-id-7 div.sk-label input.sk-toggleable__control:checked~label.sk-toggleable__label {background-color: #d4ebff;}#sk-container-id-7 input.sk-hidden--visually {border: 0;clip: rect(1px 1px 1px 1px);clip: rect(1px, 1px, 1px, 1px);height: 1px;margin: -1px;overflow: hidden;padding: 0;position: absolute;width: 1px;}#sk-container-id-7 div.sk-estimator {font-family: monospace;background-color: #f0f8ff;border: 1px dotted black;border-radius: 0.25em;box-sizing: border-box;margin-bottom: 0.5em;}#sk-container-id-7 div.sk-estimator:hover {background-color: #d4ebff;}#sk-container-id-7 div.sk-parallel-item::after {content: \"\";width: 100%;border-bottom: 1px solid gray;flex-grow: 1;}#sk-container-id-7 div.sk-label:hover label.sk-toggleable__label {background-color: #d4ebff;}#sk-container-id-7 div.sk-serial::before {content: \"\";position: absolute;border-left: 1px solid gray;box-sizing: border-box;top: 0;bottom: 0;left: 50%;z-index: 0;}#sk-container-id-7 div.sk-serial {display: flex;flex-direction: column;align-items: center;background-color: white;padding-right: 0.2em;padding-left: 0.2em;position: relative;}#sk-container-id-7 div.sk-item {position: relative;z-index: 1;}#sk-container-id-7 div.sk-parallel {display: flex;align-items: stretch;justify-content: center;background-color: white;position: relative;}#sk-container-id-7 div.sk-item::before, #sk-container-id-7 div.sk-parallel-item::before {content: \"\";position: absolute;border-left: 1px solid gray;box-sizing: border-box;top: 0;bottom: 0;left: 50%;z-index: -1;}#sk-container-id-7 div.sk-parallel-item {display: flex;flex-direction: column;z-index: 1;position: relative;background-color: white;}#sk-container-id-7 div.sk-parallel-item:first-child::after {align-self: flex-end;width: 50%;}#sk-container-id-7 div.sk-parallel-item:last-child::after {align-self: flex-start;width: 50%;}#sk-container-id-7 div.sk-parallel-item:only-child::after {width: 0;}#sk-container-id-7 div.sk-dashed-wrapped {border: 1px dashed gray;margin: 0 0.4em 0.5em 0.4em;box-sizing: border-box;padding-bottom: 0.4em;background-color: white;}#sk-container-id-7 div.sk-label label {font-family: monospace;font-weight: bold;display: inline-block;line-height: 1.2em;}#sk-container-id-7 div.sk-label-container {text-align: center;}#sk-container-id-7 div.sk-container {/* jupyter's `normalize.less` sets `[hidden] { display: none; }` but bootstrap.min.css set `[hidden] { display: none !important; }` so we also need the `!important` here to be able to override the default hidden behavior on the sphinx rendered scikit-learn.org. See: https://github.com/scikit-learn/scikit-learn/issues/21755 */display: inline-block !important;position: relative;}#sk-container-id-7 div.sk-text-repr-fallback {display: none;}</style><div id=\"sk-container-id-7\" class=\"sk-top-container\"><div class=\"sk-text-repr-fallback\"><pre>RandomForestClassifier(max_features=&#x27;auto&#x27;, n_estimators=50, random_state=44)</pre><b>In a Jupyter environment, please rerun this cell to show the HTML representation or trust the notebook. <br />On GitHub, the HTML representation is unable to render, please try loading this page with nbviewer.org.</b></div><div class=\"sk-container\" hidden><div class=\"sk-item\"><div class=\"sk-estimator sk-toggleable\"><input class=\"sk-toggleable__control sk-hidden--visually\" id=\"sk-estimator-id-7\" type=\"checkbox\" checked><label for=\"sk-estimator-id-7\" class=\"sk-toggleable__label sk-toggleable__label-arrow\">RandomForestClassifier</label><div class=\"sk-toggleable__content\"><pre>RandomForestClassifier(max_features=&#x27;auto&#x27;, n_estimators=50, random_state=44)</pre></div></div></div></div></div>"
      ],
      "text/plain": [
       "RandomForestClassifier(max_features='auto', n_estimators=50, random_state=44)"
      ]
     },
     "execution_count": 110,
     "metadata": {},
     "output_type": "execute_result"
    }
   ],
   "source": [
    "X_train, X_test, y_train, y_test = train_test_split(X, y, test_size=0.3, random_state=44)\n",
    "rf_model = RandomForestClassifier(n_estimators=50, max_features=\"auto\", random_state=44)\n",
    "rf_model.fit(X_train, y_train)"
   ]
  },
  {
   "cell_type": "code",
   "execution_count": 111,
   "metadata": {},
   "outputs": [
    {
     "data": {
      "text/plain": [
       "0.9194444444444444"
      ]
     },
     "execution_count": 111,
     "metadata": {},
     "output_type": "execute_result"
    }
   ],
   "source": [
    "rf_model.score(X_test, y_test)"
   ]
  },
  {
   "cell_type": "code",
   "execution_count": 54,
   "metadata": {},
   "outputs": [],
   "source": [
    "def plot_feature_importance(importance,names,model_type):\n",
    "\n",
    "    #Create arrays from feature importance and feature names\n",
    "    feature_importance = np.array(importance)\n",
    "    feature_names = np.array(names)\n",
    "\n",
    "    #Create a DataFrame using a Dictionary\n",
    "    data={'feature_names':feature_names,'feature_importance':feature_importance}\n",
    "    fi_df = pd.DataFrame(data)\n",
    "\n",
    "    #Sort the DataFrame in order decreasing feature importance\n",
    "    fi_df.sort_values(by=['feature_importance'], ascending=False,inplace=True)\n",
    "\n",
    "    #Define size of bar plot\n",
    "    plt.figure(figsize=(10,8))\n",
    "    #Plot Searborn bar chart\n",
    "    sns.barplot(x=fi_df['feature_importance'], y=fi_df['feature_names'])\n",
    "    #Add chart labels\n",
    "    plt.title(model_type + 'FEATURE IMPORTANCE')\n",
    "    plt.xlabel('FEATURE IMPORTANCE')\n",
    "    plt.ylabel('FEATURE NAMES')\n",
    "    plt.savefig('rf_importance.png')"
   ]
  },
  {
   "cell_type": "code",
   "execution_count": 88,
   "metadata": {},
   "outputs": [],
   "source": [
    "import seaborn as sns\n",
    "\n",
    "def plot_feature_importance(importance, names, model_type):\n",
    "\n",
    "    #Create arrays from feature importance and feature names\n",
    "    feature_importance = np.array(importance)\n",
    "    feature_names = np.array(names)\n",
    "\n",
    "    #Create a DataFrame using a Dictionary\n",
    "    data={'feature_names':feature_names,'feature_importance':feature_importance}\n",
    "    fi_df = pd.DataFrame(data)\n",
    "\n",
    "    #Sort the DataFrame in order decreasing feature importance\n",
    "    fi_df.sort_values(by=['feature_importance'], ascending=False,inplace=True)\n",
    "\n",
    "    #Define size of bar plot\n",
    "    plt.figure(figsize=(10,8))\n",
    "    \n",
    "    #Plot Searborn bar chart\n",
    "    colors = ['#155084' if (idx <= 1) else '#9dbcd4' for idx, x in enumerate(feature_importance)]\n",
    "    \n",
    "    sns.barplot(x=fi_df['feature_importance'], y=fi_df['feature_names'], palette = colors)\n",
    "    \n",
    "    plt.title(model_type + ' FEATURE IMPORTANCE')\n",
    "    plt.ylabel('FEATURE NAMES')\n",
    "    \n",
    "    #Add chart labels\n",
    "    if model_type.upper() == \"RANDOM FOREST\":\n",
    "        plt.title(model_type + ' FEATURE IMPORTANCE')\n",
    "        plt.xlabel('FEATURE IMPORTANCE')\n",
    "        plt.ylabel('FEATURE NAMES')\n",
    "        \n",
    "    if model_type.upper() == \"XGBOOST\":\n",
    "        plt.title(model_type + ' FEATURE IMPORTANCE')\n",
    "        plt.xlabel('F1 Score')\n",
    "        plt.ylabel('FEATURE NAMES')\n",
    "        \n",
    "    plt.savefig('rf_importance.png')"
   ]
  },
  {
   "cell_type": "code",
   "execution_count": 89,
   "metadata": {},
   "outputs": [
    {
     "data": {
      "image/png": "[encoded data removed]",
      "text/plain": [
       "<Figure size 720x576 with 1 Axes>"
      ]
     },
     "metadata": {
      "needs_background": "light"
     },
     "output_type": "display_data"
    }
   ],
   "source": [
    "plot_feature_importance(rf_model.feature_importances_, X.columns, 'RANDOM FOREST')"
   ]
  },
  {
   "cell_type": "code",
   "execution_count": 112,
   "metadata": {},
   "outputs": [
    {
     "data": {
      "text/plain": [
       "array([[16413,  1644],\n",
       "       [ 1256, 16687]])"
      ]
     },
     "execution_count": 112,
     "metadata": {},
     "output_type": "execute_result"
    }
   ],
   "source": [
    "y_preds = rf_model.predict(X_test)\n",
    "confusion_matrix(y_test, y_preds)"
   ]
  },
  {
   "cell_type": "code",
   "execution_count": 113,
   "metadata": {},
   "outputs": [
    {
     "data": {
      "image/png": "[encoded data removed]",
      "text/plain": [
       "<Figure size 432x288 with 2 Axes>"
      ]
     },
     "metadata": {
      "needs_background": "light"
     },
     "output_type": "display_data"
    }
   ],
   "source": [
    "cm = confusion_matrix(y_test, y_preds, labels=rf_model.classes_)\n",
    "disp = ConfusionMatrixDisplay(confusion_matrix=cm, display_labels=rf_model.classes_)\n",
    "disp.plot(cmap=plt.cm.Blues) \n",
    "disp.ax_.set_title(\"Random Forest Confusion Matrix\")\n",
    "plt.show()"
   ]
  },
  {
   "cell_type": "code",
   "execution_count": 58,
   "metadata": {},
   "outputs": [
    {
     "data": {
      "image/png": "[encoded data removed]",
      "text/plain": [
       "<Figure size 432x288 with 1 Axes>"
      ]
     },
     "metadata": {
      "needs_background": "light"
     },
     "output_type": "display_data"
    }
   ],
   "source": [
    "# ROC curve\n",
    "\n",
    "probs = rf_model.predict_proba(X_test)\n",
    "preds = probs[:,1]\n",
    "fpr, tpr, threshold = metrics.roc_curve(y_test, preds)\n",
    "roc_auc = metrics.auc(fpr, tpr)\n",
    "\n",
    "plt.title('ROC Curve (Random Forest)')\n",
    "plt.plot(fpr, tpr, 'b', label = 'AUC = %0.2f' % roc_auc)\n",
    "plt.legend(loc = 'lower right')\n",
    "plt.plot([0, 1], [0, 1],'r--')\n",
    "plt.xlim([0, 1])\n",
    "plt.ylim([0, 1])\n",
    "plt.ylabel('True Positive Rate')\n",
    "plt.xlabel('False Positive Rate')\n",
    "plt.savefig('roc_rf.png')\n",
    "plt.show()"
   ]
  },
  {
   "cell_type": "markdown",
   "metadata": {},
   "source": [
    "## Logistic Regression"
   ]
  },
  {
   "cell_type": "code",
   "execution_count": 97,
   "metadata": {},
   "outputs": [],
   "source": [
    "from sklearn.linear_model import LogisticRegression\n",
    "from sklearn.metrics import classification_report\n",
    "from sklearn.metrics import confusion_matrix, ConfusionMatrixDisplay"
   ]
  },
  {
   "cell_type": "code",
   "execution_count": 98,
   "metadata": {},
   "outputs": [
    {
     "data": {
      "text/html": [
       "<style>#sk-container-id-5 {color: black;background-color: white;}#sk-container-id-5 pre{padding: 0;}#sk-container-id-5 div.sk-toggleable {background-color: white;}#sk-container-id-5 label.sk-toggleable__label {cursor: pointer;display: block;width: 100%;margin-bottom: 0;padding: 0.3em;box-sizing: border-box;text-align: center;}#sk-container-id-5 label.sk-toggleable__label-arrow:before {content: \"▸\";float: left;margin-right: 0.25em;color: #696969;}#sk-container-id-5 label.sk-toggleable__label-arrow:hover:before {color: black;}#sk-container-id-5 div.sk-estimator:hover label.sk-toggleable__label-arrow:before {color: black;}#sk-container-id-5 div.sk-toggleable__content {max-height: 0;max-width: 0;overflow: hidden;text-align: left;background-color: #f0f8ff;}#sk-container-id-5 div.sk-toggleable__content pre {margin: 0.2em;color: black;border-radius: 0.25em;background-color: #f0f8ff;}#sk-container-id-5 input.sk-toggleable__control:checked~div.sk-toggleable__content {max-height: 200px;max-width: 100%;overflow: auto;}#sk-container-id-5 input.sk-toggleable__control:checked~label.sk-toggleable__label-arrow:before {content: \"▾\";}#sk-container-id-5 div.sk-estimator input.sk-toggleable__control:checked~label.sk-toggleable__label {background-color: #d4ebff;}#sk-container-id-5 div.sk-label input.sk-toggleable__control:checked~label.sk-toggleable__label {background-color: #d4ebff;}#sk-container-id-5 input.sk-hidden--visually {border: 0;clip: rect(1px 1px 1px 1px);clip: rect(1px, 1px, 1px, 1px);height: 1px;margin: -1px;overflow: hidden;padding: 0;position: absolute;width: 1px;}#sk-container-id-5 div.sk-estimator {font-family: monospace;background-color: #f0f8ff;border: 1px dotted black;border-radius: 0.25em;box-sizing: border-box;margin-bottom: 0.5em;}#sk-container-id-5 div.sk-estimator:hover {background-color: #d4ebff;}#sk-container-id-5 div.sk-parallel-item::after {content: \"\";width: 100%;border-bottom: 1px solid gray;flex-grow: 1;}#sk-container-id-5 div.sk-label:hover label.sk-toggleable__label {background-color: #d4ebff;}#sk-container-id-5 div.sk-serial::before {content: \"\";position: absolute;border-left: 1px solid gray;box-sizing: border-box;top: 0;bottom: 0;left: 50%;z-index: 0;}#sk-container-id-5 div.sk-serial {display: flex;flex-direction: column;align-items: center;background-color: white;padding-right: 0.2em;padding-left: 0.2em;position: relative;}#sk-container-id-5 div.sk-item {position: relative;z-index: 1;}#sk-container-id-5 div.sk-parallel {display: flex;align-items: stretch;justify-content: center;background-color: white;position: relative;}#sk-container-id-5 div.sk-item::before, #sk-container-id-5 div.sk-parallel-item::before {content: \"\";position: absolute;border-left: 1px solid gray;box-sizing: border-box;top: 0;bottom: 0;left: 50%;z-index: -1;}#sk-container-id-5 div.sk-parallel-item {display: flex;flex-direction: column;z-index: 1;position: relative;background-color: white;}#sk-container-id-5 div.sk-parallel-item:first-child::after {align-self: flex-end;width: 50%;}#sk-container-id-5 div.sk-parallel-item:last-child::after {align-self: flex-start;width: 50%;}#sk-container-id-5 div.sk-parallel-item:only-child::after {width: 0;}#sk-container-id-5 div.sk-dashed-wrapped {border: 1px dashed gray;margin: 0 0.4em 0.5em 0.4em;box-sizing: border-box;padding-bottom: 0.4em;background-color: white;}#sk-container-id-5 div.sk-label label {font-family: monospace;font-weight: bold;display: inline-block;line-height: 1.2em;}#sk-container-id-5 div.sk-label-container {text-align: center;}#sk-container-id-5 div.sk-container {/* jupyter's `normalize.less` sets `[hidden] { display: none; }` but bootstrap.min.css set `[hidden] { display: none !important; }` so we also need the `!important` here to be able to override the default hidden behavior on the sphinx rendered scikit-learn.org. See: https://github.com/scikit-learn/scikit-learn/issues/21755 */display: inline-block !important;position: relative;}#sk-container-id-5 div.sk-text-repr-fallback {display: none;}</style><div id=\"sk-container-id-5\" class=\"sk-top-container\"><div class=\"sk-text-repr-fallback\"><pre>LogisticRegression(random_state=0, solver=&#x27;liblinear&#x27;)</pre><b>In a Jupyter environment, please rerun this cell to show the HTML representation or trust the notebook. <br />On GitHub, the HTML representation is unable to render, please try loading this page with nbviewer.org.</b></div><div class=\"sk-container\" hidden><div class=\"sk-item\"><div class=\"sk-estimator sk-toggleable\"><input class=\"sk-toggleable__control sk-hidden--visually\" id=\"sk-estimator-id-5\" type=\"checkbox\" checked><label for=\"sk-estimator-id-5\" class=\"sk-toggleable__label sk-toggleable__label-arrow\">LogisticRegression</label><div class=\"sk-toggleable__content\"><pre>LogisticRegression(random_state=0, solver=&#x27;liblinear&#x27;)</pre></div></div></div></div></div>"
      ],
      "text/plain": [
       "LogisticRegression(random_state=0, solver='liblinear')"
      ]
     },
     "execution_count": 98,
     "metadata": {},
     "output_type": "execute_result"
    }
   ],
   "source": [
    "logit_model = LogisticRegression(solver='liblinear', random_state=0)\n",
    "logit_model.fit(X_train, y_train)"
   ]
  },
  {
   "cell_type": "code",
   "execution_count": 99,
   "metadata": {},
   "outputs": [
    {
     "data": {
      "text/plain": [
       "0.7514444444444445"
      ]
     },
     "execution_count": 99,
     "metadata": {},
     "output_type": "execute_result"
    }
   ],
   "source": [
    "logit_model.score(X_test, y_test)"
   ]
  },
  {
   "cell_type": "code",
   "execution_count": 100,
   "metadata": {},
   "outputs": [],
   "source": [
    "y_preds = logit_model.predict(X_test)"
   ]
  },
  {
   "cell_type": "code",
   "execution_count": 101,
   "metadata": {},
   "outputs": [
    {
     "data": {
      "image/png": "[encoded data removed]",
      "text/plain": [
       "<Figure size 432x288 with 2 Axes>"
      ]
     },
     "metadata": {
      "needs_background": "light"
     },
     "output_type": "display_data"
    }
   ],
   "source": [
    "cm = confusion_matrix(y_test, y_preds, labels=logit_model.classes_)\n",
    "disp = ConfusionMatrixDisplay(confusion_matrix=cm, display_labels=logit_model.classes_)\n",
    "disp.plot(cmap=plt.cm.Blues) \n",
    "disp.ax_.set_title(\"Logistic Regression Confusion Matrix\")\n",
    "plt.show()"
   ]
  },
  {
   "cell_type": "code",
   "execution_count": 103,
   "metadata": {},
   "outputs": [
    {
     "name": "stdout",
     "output_type": "stream",
     "text": [
      "[[-0.04744417  0.05999579  0.10170905  0.01181609 -1.35202384 -0.62639845\n",
      "  -0.16773632  0.18743483  0.03230076  0.06108752 -0.2729124   2.79265454\n",
      "   0.17346335  0.46663199  2.79212752  0.00959077  0.00467966 -0.07891524\n",
      "  -0.47786281 -0.07322037]] [-2.01510145]\n"
     ]
    }
   ],
   "source": [
    "print(logit_model.coef_, logit_model.intercept_)"
   ]
  },
  {
   "cell_type": "code",
   "execution_count": 64,
   "metadata": {},
   "outputs": [
    {
     "data": {
      "image/png": "[encoded data removed]",
      "text/plain": [
       "<Figure size 432x288 with 1 Axes>"
      ]
     },
     "metadata": {
      "needs_background": "light"
     },
     "output_type": "display_data"
    }
   ],
   "source": [
    "# ROC curve\n",
    "\n",
    "probs = logit_model.predict_proba(X_test)\n",
    "preds = probs[:,1]\n",
    "fpr, tpr, threshold = metrics.roc_curve(y_test, preds)\n",
    "roc_auc = metrics.auc(fpr, tpr)\n",
    "\n",
    "plt.title('ROC Curve (Logistic Regression)')\n",
    "plt.plot(fpr, tpr, 'b', label = 'AUC = %0.2f' % roc_auc)\n",
    "plt.legend(loc = 'lower right')\n",
    "plt.plot([0, 1], [0, 1],'r--')\n",
    "plt.xlim([0, 1])\n",
    "plt.ylim([0, 1])\n",
    "plt.ylabel('True Positive Rate')\n",
    "plt.xlabel('False Positive Rate')\n",
    "plt.savefig('roc_logistic.png')\n",
    "plt.savefig('roc_logit.png')\n",
    "plt.show()"
   ]
  },
  {
   "cell_type": "code",
   "execution_count": null,
   "metadata": {},
   "outputs": [],
   "source": []
  }
 ],
 "metadata": {
  "kernelspec": {
   "display_name": "Python 3",
   "language": "python",
   "name": "python3"
  },
  "language_info": {
   "codemirror_mode": {
    "name": "ipython",
    "version": 3
   },
   "file_extension": ".py",
   "mimetype": "text/x-python",
   "name": "python",
   "nbconvert_exporter": "python",
   "pygments_lexer": "ipython3",
   "version": "3.8.5"
  }
 },
 "nbformat": 4,
 "nbformat_minor": 4
}

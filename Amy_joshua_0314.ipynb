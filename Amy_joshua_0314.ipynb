{
 "cells": [
  {
   "cell_type": "code",
   "execution_count": 1,
   "metadata": {},
   "outputs": [],
   "source": [
    "#imports\n",
    "\n",
    "import tarfile\n",
    "import pandas as pd\n",
    "import pyarrow.parquet as pq\n",
    "import numpy as np\n",
    "import matplotlib.pyplot as plt\n",
    "import sklearn.metrics as metrics\n",
    "import random\n",
    "pd.set_option('display.max_columns', None)"
   ]
  },
  {
   "cell_type": "code",
   "execution_count": 2,
   "metadata": {},
   "outputs": [
    {
     "name": "stdout",
     "output_type": "stream",
     "text": [
      "CPU times: user 891 ms, sys: 50 ms, total: 941 ms\n",
      "Wall time: 4.5 s\n"
     ]
    }
   ],
   "source": [
    "%%time\n",
    "\n",
    "# dataset10 = pq.ParquetDataset(\"bigd/M148/hitdata7days/visitday=10/\")\n",
    "dataset_all = pq.ParquetDataset(\"bigd/M148/hitdata7days\")"
   ]
  },
  {
   "cell_type": "code",
   "execution_count": 3,
   "metadata": {},
   "outputs": [
    {
     "name": "stdout",
     "output_type": "stream",
     "text": [
      "CPU times: user 52.5 s, sys: 9.63 s, total: 1min 2s\n",
      "Wall time: 1min 1s\n"
     ]
    }
   ],
   "source": [
    "%%time\n",
    "\n",
    "columns = ['visitnumber', 'myaccountengagement', 'calculatorengagement', #numeric\n",
    "            'service', \n",
    "            'emailsubscriptionremove', # change to boolean \n",
    "            'refinementattribute2', # maximize, change to boolean\n",
    "            'prop29', # type of customer\n",
    "            'prop33', # Customer Lifestage Segment\n",
    "            'prop44', # Customer Attribute Tagging\n",
    "            'prop50', # error message change to boolean\n",
    "            'state', 'color', 'connectiontype',\n",
    "            'geocountry', \n",
    "            'newvisit', \n",
    "            'monthlyvisitor', \n",
    "            'productfindingmethods',\n",
    "            'evar16', # attempted promocode                  \n",
    "            'evar28', # Marketing Segment Name\n",
    "            'clickactiontype',\n",
    "            'clickcontexttype', # boolean\n",
    "            'clicktag',\n",
    "            'devicetype',\n",
    "            'evar83', # behavior score\n",
    "            'evar89',\n",
    "            'ordernumber',\n",
    "            'visitid'] \n",
    "data_all = dataset_all.read(columns=columns).combine_chunks()"
   ]
  },
  {
   "cell_type": "code",
   "execution_count": 4,
   "metadata": {},
   "outputs": [
    {
     "name": "stdout",
     "output_type": "stream",
     "text": [
      "CPU times: user 1min 52s, sys: 23 s, total: 2min 15s\n",
      "Wall time: 5min 52s\n"
     ]
    },
    {
     "data": {
      "text/html": [
       "<div>\n",
       "<style scoped>\n",
       "    .dataframe tbody tr th:only-of-type {\n",
       "        vertical-align: middle;\n",
       "    }\n",
       "\n",
       "    .dataframe tbody tr th {\n",
       "        vertical-align: top;\n",
       "    }\n",
       "\n",
       "    .dataframe thead th {\n",
       "        text-align: right;\n",
       "    }\n",
       "</style>\n",
       "<table border=\"1\" class=\"dataframe\">\n",
       "  <thead>\n",
       "    <tr style=\"text-align: right;\">\n",
       "      <th></th>\n",
       "      <th>visitnumber</th>\n",
       "      <th>myaccountengagement</th>\n",
       "      <th>calculatorengagement</th>\n",
       "      <th>service</th>\n",
       "      <th>emailsubscriptionremove</th>\n",
       "      <th>refinementattribute2</th>\n",
       "      <th>prop29</th>\n",
       "      <th>prop33</th>\n",
       "      <th>prop44</th>\n",
       "      <th>prop50</th>\n",
       "      <th>state</th>\n",
       "      <th>color</th>\n",
       "      <th>connectiontype</th>\n",
       "      <th>geocountry</th>\n",
       "      <th>newvisit</th>\n",
       "      <th>monthlyvisitor</th>\n",
       "      <th>productfindingmethods</th>\n",
       "      <th>evar16</th>\n",
       "      <th>evar28</th>\n",
       "      <th>clickactiontype</th>\n",
       "      <th>clickcontexttype</th>\n",
       "      <th>clicktag</th>\n",
       "      <th>devicetype</th>\n",
       "      <th>evar83</th>\n",
       "      <th>evar89</th>\n",
       "      <th>ordernumber</th>\n",
       "      <th>visitid</th>\n",
       "      <th>visitday</th>\n",
       "    </tr>\n",
       "  </thead>\n",
       "  <tbody>\n",
       "    <tr>\n",
       "      <th>0</th>\n",
       "      <td>6</td>\n",
       "      <td>None</td>\n",
       "      <td>None</td>\n",
       "      <td>pe</td>\n",
       "      <td>None</td>\n",
       "      <td>None</td>\n",
       "      <td>None</td>\n",
       "      <td>None</td>\n",
       "      <td>None</td>\n",
       "      <td>None</td>\n",
       "      <td>None</td>\n",
       "      <td>1</td>\n",
       "      <td>2</td>\n",
       "      <td>usa</td>\n",
       "      <td>0</td>\n",
       "      <td>0</td>\n",
       "      <td>None</td>\n",
       "      <td>None</td>\n",
       "      <td>None</td>\n",
       "      <td>0</td>\n",
       "      <td>0</td>\n",
       "      <td>None</td>\n",
       "      <td>Mobile</td>\n",
       "      <td>None</td>\n",
       "      <td>None</td>\n",
       "      <td>None</td>\n",
       "      <td>189763922254746751413200407250696891446</td>\n",
       "      <td>10</td>\n",
       "    </tr>\n",
       "    <tr>\n",
       "      <th>1</th>\n",
       "      <td>1</td>\n",
       "      <td>54</td>\n",
       "      <td>4.8</td>\n",
       "      <td>ss</td>\n",
       "      <td>https://www.fingerhut.com/product/NRWP5?cat=10</td>\n",
       "      <td>None</td>\n",
       "      <td>Mature</td>\n",
       "      <td>Mature</td>\n",
       "      <td>Fetti</td>\n",
       "      <td>None</td>\n",
       "      <td>MS</td>\n",
       "      <td>1</td>\n",
       "      <td>2</td>\n",
       "      <td>usa</td>\n",
       "      <td>0</td>\n",
       "      <td>0</td>\n",
       "      <td>None</td>\n",
       "      <td>None</td>\n",
       "      <td>5_Fragile_Mature</td>\n",
       "      <td>0</td>\n",
       "      <td>0</td>\n",
       "      <td>None</td>\n",
       "      <td>Mobile</td>\n",
       "      <td>529</td>\n",
       "      <td>None</td>\n",
       "      <td>None</td>\n",
       "      <td>224586517001559320985673092461365783711</td>\n",
       "      <td>10</td>\n",
       "    </tr>\n",
       "    <tr>\n",
       "      <th>2</th>\n",
       "      <td>10</td>\n",
       "      <td>None</td>\n",
       "      <td>None</td>\n",
       "      <td>pe</td>\n",
       "      <td>https://www.fingerhut.com/checkout/index</td>\n",
       "      <td>None</td>\n",
       "      <td>Prospect</td>\n",
       "      <td>None</td>\n",
       "      <td>FreshStart</td>\n",
       "      <td>None</td>\n",
       "      <td>None</td>\n",
       "      <td>2</td>\n",
       "      <td>2</td>\n",
       "      <td>usa</td>\n",
       "      <td>0</td>\n",
       "      <td>0</td>\n",
       "      <td>None</td>\n",
       "      <td>None</td>\n",
       "      <td>None</td>\n",
       "      <td>0</td>\n",
       "      <td>0</td>\n",
       "      <td>None</td>\n",
       "      <td>Tablet</td>\n",
       "      <td>None</td>\n",
       "      <td>None</td>\n",
       "      <td>None</td>\n",
       "      <td>8130213804068902160860345088231219715210</td>\n",
       "      <td>10</td>\n",
       "    </tr>\n",
       "    <tr>\n",
       "      <th>3</th>\n",
       "      <td>2</td>\n",
       "      <td>None</td>\n",
       "      <td>None</td>\n",
       "      <td>pe</td>\n",
       "      <td>https://www.fingerhut.com/checkout/index</td>\n",
       "      <td>None</td>\n",
       "      <td>Mature</td>\n",
       "      <td>None</td>\n",
       "      <td>Fetti</td>\n",
       "      <td>None</td>\n",
       "      <td>None</td>\n",
       "      <td>2</td>\n",
       "      <td>2</td>\n",
       "      <td>usa</td>\n",
       "      <td>0</td>\n",
       "      <td>0</td>\n",
       "      <td>None</td>\n",
       "      <td>None</td>\n",
       "      <td>6_Missing_Mature</td>\n",
       "      <td>3</td>\n",
       "      <td>1</td>\n",
       "      <td>SUBMIT</td>\n",
       "      <td>Desktop</td>\n",
       "      <td>507</td>\n",
       "      <td>None</td>\n",
       "      <td>None</td>\n",
       "      <td>590912592049203187912453158393064821062</td>\n",
       "      <td>10</td>\n",
       "    </tr>\n",
       "    <tr>\n",
       "      <th>4</th>\n",
       "      <td>2</td>\n",
       "      <td>61</td>\n",
       "      <td>None</td>\n",
       "      <td>ss</td>\n",
       "      <td>https://www.fingerhut.com/</td>\n",
       "      <td>None</td>\n",
       "      <td>Emerging</td>\n",
       "      <td>Emerging</td>\n",
       "      <td>Fetti</td>\n",
       "      <td>None</td>\n",
       "      <td>CA</td>\n",
       "      <td>1</td>\n",
       "      <td>2</td>\n",
       "      <td>usa</td>\n",
       "      <td>0</td>\n",
       "      <td>0</td>\n",
       "      <td>None</td>\n",
       "      <td>None</td>\n",
       "      <td>1_Valuable_Other</td>\n",
       "      <td>0</td>\n",
       "      <td>1</td>\n",
       "      <td>A</td>\n",
       "      <td>Mobile</td>\n",
       "      <td>455</td>\n",
       "      <td>None</td>\n",
       "      <td>None</td>\n",
       "      <td>538021183841242432152115917402238466902</td>\n",
       "      <td>10</td>\n",
       "    </tr>\n",
       "  </tbody>\n",
       "</table>\n",
       "</div>"
      ],
      "text/plain": [
       "  visitnumber myaccountengagement calculatorengagement service  \\\n",
       "0           6                None                 None      pe   \n",
       "1           1                  54                  4.8      ss   \n",
       "2          10                None                 None      pe   \n",
       "3           2                None                 None      pe   \n",
       "4           2                  61                 None      ss   \n",
       "\n",
       "                          emailsubscriptionremove refinementattribute2  \\\n",
       "0                                            None                 None   \n",
       "1  https://www.fingerhut.com/product/NRWP5?cat=10                 None   \n",
       "2        https://www.fingerhut.com/checkout/index                 None   \n",
       "3        https://www.fingerhut.com/checkout/index                 None   \n",
       "4                      https://www.fingerhut.com/                 None   \n",
       "\n",
       "     prop29    prop33      prop44 prop50 state color connectiontype  \\\n",
       "0      None      None        None   None  None     1              2   \n",
       "1    Mature    Mature       Fetti   None    MS     1              2   \n",
       "2  Prospect      None  FreshStart   None  None     2              2   \n",
       "3    Mature      None       Fetti   None  None     2              2   \n",
       "4  Emerging  Emerging       Fetti   None    CA     1              2   \n",
       "\n",
       "  geocountry newvisit monthlyvisitor productfindingmethods evar16  \\\n",
       "0        usa        0              0                  None   None   \n",
       "1        usa        0              0                  None   None   \n",
       "2        usa        0              0                  None   None   \n",
       "3        usa        0              0                  None   None   \n",
       "4        usa        0              0                  None   None   \n",
       "\n",
       "             evar28 clickactiontype clickcontexttype clicktag devicetype  \\\n",
       "0              None               0                0     None     Mobile   \n",
       "1  5_Fragile_Mature               0                0     None     Mobile   \n",
       "2              None               0                0     None     Tablet   \n",
       "3  6_Missing_Mature               3                1   SUBMIT    Desktop   \n",
       "4  1_Valuable_Other               0                1        A     Mobile   \n",
       "\n",
       "  evar83 evar89 ordernumber                                   visitid visitday  \n",
       "0   None   None        None   189763922254746751413200407250696891446       10  \n",
       "1    529   None        None   224586517001559320985673092461365783711       10  \n",
       "2   None   None        None  8130213804068902160860345088231219715210       10  \n",
       "3    507   None        None   590912592049203187912453158393064821062       10  \n",
       "4    455   None        None   538021183841242432152115917402238466902       10  "
      ]
     },
     "execution_count": 4,
     "metadata": {},
     "output_type": "execute_result"
    }
   ],
   "source": [
    "%%time\n",
    "\n",
    "df = data_all.to_pandas()\n",
    "df.head()"
   ]
  },
  {
   "cell_type": "markdown",
   "metadata": {},
   "source": [
    "## Sampling"
   ]
  },
  {
   "cell_type": "code",
   "execution_count": 5,
   "metadata": {},
   "outputs": [
    {
     "name": "stdout",
     "output_type": "stream",
     "text": [
      "42730149\n"
     ]
    }
   ],
   "source": [
    "# look at how many rows are in the dataframe\n",
    "print(len(df))"
   ]
  },
  {
   "cell_type": "code",
   "execution_count": 28,
   "metadata": {},
   "outputs": [
    {
     "name": "stdout",
     "output_type": "stream",
     "text": [
      "CPU times: user 6.36 s, sys: 36 s, total: 42.4 s\n",
      "Wall time: 41min 21s\n"
     ]
    },
    {
     "data": {
      "text/html": [
       "<div>\n",
       "<style scoped>\n",
       "    .dataframe tbody tr th:only-of-type {\n",
       "        vertical-align: middle;\n",
       "    }\n",
       "\n",
       "    .dataframe tbody tr th {\n",
       "        vertical-align: top;\n",
       "    }\n",
       "\n",
       "    .dataframe thead th {\n",
       "        text-align: right;\n",
       "    }\n",
       "</style>\n",
       "<table border=\"1\" class=\"dataframe\">\n",
       "  <thead>\n",
       "    <tr style=\"text-align: right;\">\n",
       "      <th></th>\n",
       "      <th>visitnumber</th>\n",
       "      <th>myaccountengagement</th>\n",
       "      <th>calculatorengagement</th>\n",
       "      <th>service</th>\n",
       "      <th>emailsubscriptionremove</th>\n",
       "      <th>refinementattribute2</th>\n",
       "      <th>prop29</th>\n",
       "      <th>prop33</th>\n",
       "      <th>prop44</th>\n",
       "      <th>prop50</th>\n",
       "      <th>state</th>\n",
       "      <th>color</th>\n",
       "      <th>connectiontype</th>\n",
       "      <th>geocountry</th>\n",
       "      <th>newvisit</th>\n",
       "      <th>monthlyvisitor</th>\n",
       "      <th>productfindingmethods</th>\n",
       "      <th>evar16</th>\n",
       "      <th>evar28</th>\n",
       "      <th>clickactiontype</th>\n",
       "      <th>clickcontexttype</th>\n",
       "      <th>clicktag</th>\n",
       "      <th>devicetype</th>\n",
       "      <th>evar83</th>\n",
       "      <th>evar89</th>\n",
       "      <th>ordernumber</th>\n",
       "      <th>visitid</th>\n",
       "      <th>visitday</th>\n",
       "    </tr>\n",
       "  </thead>\n",
       "  <tbody>\n",
       "    <tr>\n",
       "      <th>17892595</th>\n",
       "      <td>4</td>\n",
       "      <td>None</td>\n",
       "      <td>None</td>\n",
       "      <td>pe</td>\n",
       "      <td>https://www.fingerhut.com/search?search-type=a...</td>\n",
       "      <td>None</td>\n",
       "      <td>New</td>\n",
       "      <td>None</td>\n",
       "      <td>Fetti</td>\n",
       "      <td>None</td>\n",
       "      <td>None</td>\n",
       "      <td>2</td>\n",
       "      <td>2</td>\n",
       "      <td>usa</td>\n",
       "      <td>0</td>\n",
       "      <td>0</td>\n",
       "      <td>None</td>\n",
       "      <td>None</td>\n",
       "      <td>None</td>\n",
       "      <td>0</td>\n",
       "      <td>1</td>\n",
       "      <td>A</td>\n",
       "      <td>Desktop</td>\n",
       "      <td>None</td>\n",
       "      <td>None</td>\n",
       "      <td>None</td>\n",
       "      <td>211730391438924163378248714834152719704</td>\n",
       "      <td>12</td>\n",
       "    </tr>\n",
       "    <tr>\n",
       "      <th>4302256</th>\n",
       "      <td>1</td>\n",
       "      <td>None</td>\n",
       "      <td>None</td>\n",
       "      <td>pe</td>\n",
       "      <td>https://www.fingerhut.com/search?wid=39r5g7lr&amp;...</td>\n",
       "      <td>None</td>\n",
       "      <td>New</td>\n",
       "      <td>None</td>\n",
       "      <td>FreshStart</td>\n",
       "      <td>None</td>\n",
       "      <td>None</td>\n",
       "      <td>1</td>\n",
       "      <td>2</td>\n",
       "      <td>usa</td>\n",
       "      <td>0</td>\n",
       "      <td>0</td>\n",
       "      <td>None</td>\n",
       "      <td>None</td>\n",
       "      <td>6_Missing_Other</td>\n",
       "      <td>0</td>\n",
       "      <td>1</td>\n",
       "      <td>A</td>\n",
       "      <td>Tablet</td>\n",
       "      <td>414</td>\n",
       "      <td>None</td>\n",
       "      <td>None</td>\n",
       "      <td>659098639537977369452357399704072965161</td>\n",
       "      <td>10</td>\n",
       "    </tr>\n",
       "    <tr>\n",
       "      <th>16191571</th>\n",
       "      <td>1</td>\n",
       "      <td>None</td>\n",
       "      <td>None</td>\n",
       "      <td>pe</td>\n",
       "      <td>https://www.fingerhut.com/search?search-type=a...</td>\n",
       "      <td>None</td>\n",
       "      <td>None</td>\n",
       "      <td>None</td>\n",
       "      <td>Fetti</td>\n",
       "      <td>None</td>\n",
       "      <td>None</td>\n",
       "      <td>2</td>\n",
       "      <td>4</td>\n",
       "      <td>usa</td>\n",
       "      <td>0</td>\n",
       "      <td>0</td>\n",
       "      <td>None</td>\n",
       "      <td>None</td>\n",
       "      <td>None</td>\n",
       "      <td>0</td>\n",
       "      <td>0</td>\n",
       "      <td>None</td>\n",
       "      <td>Mobile</td>\n",
       "      <td>None</td>\n",
       "      <td>None</td>\n",
       "      <td>None</td>\n",
       "      <td>169702092873272870017622178723318472481</td>\n",
       "      <td>12</td>\n",
       "    </tr>\n",
       "    <tr>\n",
       "      <th>1373534</th>\n",
       "      <td>4</td>\n",
       "      <td>None</td>\n",
       "      <td>None</td>\n",
       "      <td>pe</td>\n",
       "      <td>https://www.fingerhut.com/search/Shoes/2021.ut...</td>\n",
       "      <td>None</td>\n",
       "      <td>Mature</td>\n",
       "      <td>None</td>\n",
       "      <td>Fetti</td>\n",
       "      <td>None</td>\n",
       "      <td>None</td>\n",
       "      <td>1</td>\n",
       "      <td>2</td>\n",
       "      <td>usa</td>\n",
       "      <td>0</td>\n",
       "      <td>0</td>\n",
       "      <td>None</td>\n",
       "      <td>None</td>\n",
       "      <td>3_Expandable_Mature</td>\n",
       "      <td>3</td>\n",
       "      <td>1</td>\n",
       "      <td>SUBMIT</td>\n",
       "      <td>Mobile</td>\n",
       "      <td>518</td>\n",
       "      <td>None</td>\n",
       "      <td>None</td>\n",
       "      <td>901099401501437293927249989210107920634</td>\n",
       "      <td>10</td>\n",
       "    </tr>\n",
       "    <tr>\n",
       "      <th>18646137</th>\n",
       "      <td>31</td>\n",
       "      <td>68</td>\n",
       "      <td>0</td>\n",
       "      <td>ss</td>\n",
       "      <td>https://www.fingerhut.com/product/NRQYD.uts?CT...</td>\n",
       "      <td>None</td>\n",
       "      <td>New</td>\n",
       "      <td>New</td>\n",
       "      <td>Fetti</td>\n",
       "      <td>None</td>\n",
       "      <td>LA</td>\n",
       "      <td>2</td>\n",
       "      <td>2</td>\n",
       "      <td>usa</td>\n",
       "      <td>0</td>\n",
       "      <td>0</td>\n",
       "      <td>None</td>\n",
       "      <td>None</td>\n",
       "      <td>6_Missing_Other</td>\n",
       "      <td>0</td>\n",
       "      <td>0</td>\n",
       "      <td>None</td>\n",
       "      <td>Tablet</td>\n",
       "      <td>445</td>\n",
       "      <td>None</td>\n",
       "      <td>None</td>\n",
       "      <td>6880669734956299280455788695857270358631</td>\n",
       "      <td>12</td>\n",
       "    </tr>\n",
       "  </tbody>\n",
       "</table>\n",
       "</div>"
      ],
      "text/plain": [
       "         visitnumber myaccountengagement calculatorengagement service  \\\n",
       "17892595           4                None                 None      pe   \n",
       "4302256            1                None                 None      pe   \n",
       "16191571           1                None                 None      pe   \n",
       "1373534            4                None                 None      pe   \n",
       "18646137          31                  68                    0      ss   \n",
       "\n",
       "                                    emailsubscriptionremove  \\\n",
       "17892595  https://www.fingerhut.com/search?search-type=a...   \n",
       "4302256   https://www.fingerhut.com/search?wid=39r5g7lr&...   \n",
       "16191571  https://www.fingerhut.com/search?search-type=a...   \n",
       "1373534   https://www.fingerhut.com/search/Shoes/2021.ut...   \n",
       "18646137  https://www.fingerhut.com/product/NRQYD.uts?CT...   \n",
       "\n",
       "         refinementattribute2  prop29 prop33      prop44 prop50 state color  \\\n",
       "17892595                 None     New   None       Fetti   None  None     2   \n",
       "4302256                  None     New   None  FreshStart   None  None     1   \n",
       "16191571                 None    None   None       Fetti   None  None     2   \n",
       "1373534                  None  Mature   None       Fetti   None  None     1   \n",
       "18646137                 None     New    New       Fetti   None    LA     2   \n",
       "\n",
       "         connectiontype geocountry newvisit monthlyvisitor  \\\n",
       "17892595              2        usa        0              0   \n",
       "4302256               2        usa        0              0   \n",
       "16191571              4        usa        0              0   \n",
       "1373534               2        usa        0              0   \n",
       "18646137              2        usa        0              0   \n",
       "\n",
       "         productfindingmethods evar16               evar28 clickactiontype  \\\n",
       "17892595                  None   None                 None               0   \n",
       "4302256                   None   None      6_Missing_Other               0   \n",
       "16191571                  None   None                 None               0   \n",
       "1373534                   None   None  3_Expandable_Mature               3   \n",
       "18646137                  None   None      6_Missing_Other               0   \n",
       "\n",
       "         clickcontexttype clicktag devicetype evar83 evar89 ordernumber  \\\n",
       "17892595                1        A    Desktop   None   None        None   \n",
       "4302256                 1        A     Tablet    414   None        None   \n",
       "16191571                0     None     Mobile   None   None        None   \n",
       "1373534                 1   SUBMIT     Mobile    518   None        None   \n",
       "18646137                0     None     Tablet    445   None        None   \n",
       "\n",
       "                                           visitid visitday  \n",
       "17892595   211730391438924163378248714834152719704       12  \n",
       "4302256    659098639537977369452357399704072965161       10  \n",
       "16191571   169702092873272870017622178723318472481       12  \n",
       "1373534    901099401501437293927249989210107920634       10  \n",
       "18646137  6880669734956299280455788695857270358631       12  "
      ]
     },
     "execution_count": 28,
     "metadata": {},
     "output_type": "execute_result"
    }
   ],
   "source": [
    "%%time\n",
    "\n",
    "# randomly sample 1% of original dataset\n",
    "random.seed(1126)\n",
    "row_index = random.sample(range(42730149), 400000)\n",
    "df = df.loc[row_index]\n",
    "df.head()"
   ]
  },
  {
   "cell_type": "code",
   "execution_count": 29,
   "metadata": {},
   "outputs": [
    {
     "name": "stdout",
     "output_type": "stream",
     "text": [
      "400000\n"
     ]
    }
   ],
   "source": [
    "# look at new dataframe rows\n",
    "print(len(df))"
   ]
  },
  {
   "cell_type": "code",
   "execution_count": 41,
   "metadata": {},
   "outputs": [],
   "source": [
    "# export sampled dataframe\n",
    "\n",
    "df.to_csv('sampled_data.csv')"
   ]
  },
  {
   "cell_type": "markdown",
   "metadata": {},
   "source": [
    "## Directly load in sampled dataset"
   ]
  },
  {
   "cell_type": "code",
   "execution_count": 4,
   "metadata": {},
   "outputs": [
    {
     "data": {
      "text/html": [
       "<div>\n",
       "<style scoped>\n",
       "    .dataframe tbody tr th:only-of-type {\n",
       "        vertical-align: middle;\n",
       "    }\n",
       "\n",
       "    .dataframe tbody tr th {\n",
       "        vertical-align: top;\n",
       "    }\n",
       "\n",
       "    .dataframe thead th {\n",
       "        text-align: right;\n",
       "    }\n",
       "</style>\n",
       "<table border=\"1\" class=\"dataframe\">\n",
       "  <thead>\n",
       "    <tr style=\"text-align: right;\">\n",
       "      <th></th>\n",
       "      <th>visitnumber</th>\n",
       "      <th>myaccountengagement</th>\n",
       "      <th>calculatorengagement</th>\n",
       "      <th>service</th>\n",
       "      <th>emailsubscriptionremove</th>\n",
       "      <th>refinementattribute2</th>\n",
       "      <th>prop29</th>\n",
       "      <th>prop33</th>\n",
       "      <th>prop44</th>\n",
       "      <th>prop50</th>\n",
       "      <th>state</th>\n",
       "      <th>color</th>\n",
       "      <th>connectiontype</th>\n",
       "      <th>geocountry</th>\n",
       "      <th>newvisit</th>\n",
       "      <th>monthlyvisitor</th>\n",
       "      <th>productfindingmethods</th>\n",
       "      <th>evar16</th>\n",
       "      <th>evar28</th>\n",
       "      <th>clickactiontype</th>\n",
       "      <th>clickcontexttype</th>\n",
       "      <th>clicktag</th>\n",
       "      <th>devicetype</th>\n",
       "      <th>evar83</th>\n",
       "      <th>evar89</th>\n",
       "      <th>ordernumber</th>\n",
       "      <th>visitid</th>\n",
       "      <th>visitday</th>\n",
       "    </tr>\n",
       "  </thead>\n",
       "  <tbody>\n",
       "    <tr>\n",
       "      <th>17892595</th>\n",
       "      <td>4.0</td>\n",
       "      <td>NaN</td>\n",
       "      <td>NaN</td>\n",
       "      <td>pe</td>\n",
       "      <td>https://www.fingerhut.com/search?search-type=a...</td>\n",
       "      <td>NaN</td>\n",
       "      <td>New</td>\n",
       "      <td>NaN</td>\n",
       "      <td>Fetti</td>\n",
       "      <td>NaN</td>\n",
       "      <td>NaN</td>\n",
       "      <td>2</td>\n",
       "      <td>2</td>\n",
       "      <td>usa</td>\n",
       "      <td>0</td>\n",
       "      <td>0</td>\n",
       "      <td>NaN</td>\n",
       "      <td>NaN</td>\n",
       "      <td>NaN</td>\n",
       "      <td>0</td>\n",
       "      <td>1</td>\n",
       "      <td>A</td>\n",
       "      <td>Desktop</td>\n",
       "      <td>NaN</td>\n",
       "      <td>NaN</td>\n",
       "      <td>NaN</td>\n",
       "      <td>211730391438924163378248714834152719704</td>\n",
       "      <td>12</td>\n",
       "    </tr>\n",
       "    <tr>\n",
       "      <th>4302256</th>\n",
       "      <td>1.0</td>\n",
       "      <td>NaN</td>\n",
       "      <td>NaN</td>\n",
       "      <td>pe</td>\n",
       "      <td>https://www.fingerhut.com/search?wid=39r5g7lr&amp;...</td>\n",
       "      <td>NaN</td>\n",
       "      <td>New</td>\n",
       "      <td>NaN</td>\n",
       "      <td>FreshStart</td>\n",
       "      <td>NaN</td>\n",
       "      <td>NaN</td>\n",
       "      <td>1</td>\n",
       "      <td>2</td>\n",
       "      <td>usa</td>\n",
       "      <td>0</td>\n",
       "      <td>0</td>\n",
       "      <td>NaN</td>\n",
       "      <td>NaN</td>\n",
       "      <td>6_Missing_Other</td>\n",
       "      <td>0</td>\n",
       "      <td>1</td>\n",
       "      <td>A</td>\n",
       "      <td>Tablet</td>\n",
       "      <td>414.0</td>\n",
       "      <td>NaN</td>\n",
       "      <td>NaN</td>\n",
       "      <td>659098639537977369452357399704072965161</td>\n",
       "      <td>10</td>\n",
       "    </tr>\n",
       "    <tr>\n",
       "      <th>16191571</th>\n",
       "      <td>1.0</td>\n",
       "      <td>NaN</td>\n",
       "      <td>NaN</td>\n",
       "      <td>pe</td>\n",
       "      <td>https://www.fingerhut.com/search?search-type=a...</td>\n",
       "      <td>NaN</td>\n",
       "      <td>NaN</td>\n",
       "      <td>NaN</td>\n",
       "      <td>Fetti</td>\n",
       "      <td>NaN</td>\n",
       "      <td>NaN</td>\n",
       "      <td>2</td>\n",
       "      <td>4</td>\n",
       "      <td>usa</td>\n",
       "      <td>0</td>\n",
       "      <td>0</td>\n",
       "      <td>NaN</td>\n",
       "      <td>NaN</td>\n",
       "      <td>NaN</td>\n",
       "      <td>0</td>\n",
       "      <td>0</td>\n",
       "      <td>NaN</td>\n",
       "      <td>Mobile</td>\n",
       "      <td>NaN</td>\n",
       "      <td>NaN</td>\n",
       "      <td>NaN</td>\n",
       "      <td>169702092873272870017622178723318472481</td>\n",
       "      <td>12</td>\n",
       "    </tr>\n",
       "    <tr>\n",
       "      <th>1373534</th>\n",
       "      <td>4.0</td>\n",
       "      <td>NaN</td>\n",
       "      <td>NaN</td>\n",
       "      <td>pe</td>\n",
       "      <td>https://www.fingerhut.com/search/Shoes/2021.ut...</td>\n",
       "      <td>NaN</td>\n",
       "      <td>Mature</td>\n",
       "      <td>NaN</td>\n",
       "      <td>Fetti</td>\n",
       "      <td>NaN</td>\n",
       "      <td>NaN</td>\n",
       "      <td>1</td>\n",
       "      <td>2</td>\n",
       "      <td>usa</td>\n",
       "      <td>0</td>\n",
       "      <td>0</td>\n",
       "      <td>NaN</td>\n",
       "      <td>NaN</td>\n",
       "      <td>3_Expandable_Mature</td>\n",
       "      <td>3</td>\n",
       "      <td>1</td>\n",
       "      <td>SUBMIT</td>\n",
       "      <td>Mobile</td>\n",
       "      <td>518.0</td>\n",
       "      <td>NaN</td>\n",
       "      <td>NaN</td>\n",
       "      <td>901099401501437293927249989210107920634</td>\n",
       "      <td>10</td>\n",
       "    </tr>\n",
       "    <tr>\n",
       "      <th>18646137</th>\n",
       "      <td>31.0</td>\n",
       "      <td>68.0</td>\n",
       "      <td>0.0</td>\n",
       "      <td>ss</td>\n",
       "      <td>https://www.fingerhut.com/product/NRQYD.uts?CT...</td>\n",
       "      <td>NaN</td>\n",
       "      <td>New</td>\n",
       "      <td>New</td>\n",
       "      <td>Fetti</td>\n",
       "      <td>NaN</td>\n",
       "      <td>LA</td>\n",
       "      <td>2</td>\n",
       "      <td>2</td>\n",
       "      <td>usa</td>\n",
       "      <td>0</td>\n",
       "      <td>0</td>\n",
       "      <td>NaN</td>\n",
       "      <td>NaN</td>\n",
       "      <td>6_Missing_Other</td>\n",
       "      <td>0</td>\n",
       "      <td>0</td>\n",
       "      <td>NaN</td>\n",
       "      <td>Tablet</td>\n",
       "      <td>445.0</td>\n",
       "      <td>NaN</td>\n",
       "      <td>NaN</td>\n",
       "      <td>6880669734956299280455788695857270358631</td>\n",
       "      <td>12</td>\n",
       "    </tr>\n",
       "  </tbody>\n",
       "</table>\n",
       "</div>"
      ],
      "text/plain": [
       "          visitnumber  myaccountengagement  calculatorengagement service  \\\n",
       "17892595          4.0                  NaN                   NaN      pe   \n",
       "4302256           1.0                  NaN                   NaN      pe   \n",
       "16191571          1.0                  NaN                   NaN      pe   \n",
       "1373534           4.0                  NaN                   NaN      pe   \n",
       "18646137         31.0                 68.0                   0.0      ss   \n",
       "\n",
       "                                    emailsubscriptionremove  \\\n",
       "17892595  https://www.fingerhut.com/search?search-type=a...   \n",
       "4302256   https://www.fingerhut.com/search?wid=39r5g7lr&...   \n",
       "16191571  https://www.fingerhut.com/search?search-type=a...   \n",
       "1373534   https://www.fingerhut.com/search/Shoes/2021.ut...   \n",
       "18646137  https://www.fingerhut.com/product/NRQYD.uts?CT...   \n",
       "\n",
       "         refinementattribute2  prop29 prop33      prop44 prop50 state  color  \\\n",
       "17892595                  NaN     New    NaN       Fetti    NaN   NaN      2   \n",
       "4302256                   NaN     New    NaN  FreshStart    NaN   NaN      1   \n",
       "16191571                  NaN     NaN    NaN       Fetti    NaN   NaN      2   \n",
       "1373534                   NaN  Mature    NaN       Fetti    NaN   NaN      1   \n",
       "18646137                  NaN     New    New       Fetti    NaN    LA      2   \n",
       "\n",
       "          connectiontype geocountry  newvisit  monthlyvisitor  \\\n",
       "17892595               2        usa         0               0   \n",
       "4302256                2        usa         0               0   \n",
       "16191571               4        usa         0               0   \n",
       "1373534                2        usa         0               0   \n",
       "18646137               2        usa         0               0   \n",
       "\n",
       "         productfindingmethods evar16               evar28  clickactiontype  \\\n",
       "17892595                   NaN    NaN                  NaN                0   \n",
       "4302256                    NaN    NaN      6_Missing_Other                0   \n",
       "16191571                   NaN    NaN                  NaN                0   \n",
       "1373534                    NaN    NaN  3_Expandable_Mature                3   \n",
       "18646137                   NaN    NaN      6_Missing_Other                0   \n",
       "\n",
       "          clickcontexttype clicktag devicetype  evar83 evar89 ordernumber  \\\n",
       "17892595                 1        A    Desktop     NaN    NaN         NaN   \n",
       "4302256                  1        A     Tablet   414.0    NaN         NaN   \n",
       "16191571                 0      NaN     Mobile     NaN    NaN         NaN   \n",
       "1373534                  1   SUBMIT     Mobile   518.0    NaN         NaN   \n",
       "18646137                 0      NaN     Tablet   445.0    NaN         NaN   \n",
       "\n",
       "                                           visitid  visitday  \n",
       "17892595   211730391438924163378248714834152719704        12  \n",
       "4302256    659098639537977369452357399704072965161        10  \n",
       "16191571   169702092873272870017622178723318472481        12  \n",
       "1373534    901099401501437293927249989210107920634        10  \n",
       "18646137  6880669734956299280455788695857270358631        12  "
      ]
     },
     "execution_count": 4,
     "metadata": {},
     "output_type": "execute_result"
    }
   ],
   "source": [
    "df = pd.read_csv('sampled_data.csv', index_col=0)\n",
    "df.head()"
   ]
  },
  {
   "cell_type": "markdown",
   "metadata": {},
   "source": [
    "## Select Columns"
   ]
  },
  {
   "cell_type": "code",
   "execution_count": 7,
   "metadata": {},
   "outputs": [
    {
     "name": "stdout",
     "output_type": "stream",
     "text": [
      "CPU times: user 3min 53s, sys: 27.9 s, total: 4min 21s\n",
      "Wall time: 8min 49s\n"
     ]
    }
   ],
   "source": [
    "%%time\n",
    "\n",
    "# remove columns only contain one value (ex. None)\n",
    "df = df.dropna(thresh=2, axis=1)"
   ]
  },
  {
   "cell_type": "code",
   "execution_count": null,
   "metadata": {},
   "outputs": [],
   "source": [
    "%%time\n",
    "\n",
    "# replace none with NA\n",
    "df = df.replace(['None'],np.nan)\n",
    "df = df.replace(r'^\\s*$', np.nan, regex=True)"
   ]
  },
  {
   "cell_type": "code",
   "execution_count": null,
   "metadata": {},
   "outputs": [],
   "source": [
    "df_clean = df"
   ]
  },
  {
   "cell_type": "markdown",
   "metadata": {},
   "source": [
    "## Column Modification"
   ]
  },
  {
   "cell_type": "code",
   "execution_count": 6,
   "metadata": {
    "scrolled": false
   },
   "outputs": [
    {
     "ename": "NameError",
     "evalue": "name 'df_clean' is not defined",
     "output_type": "error",
     "traceback": [
      "\u001b[0;31m---------------------------------------------------------------------------\u001b[0m",
      "\u001b[0;31mNameError\u001b[0m                                 Traceback (most recent call last)",
      "\u001b[0;32m<timed exec>\u001b[0m in \u001b[0;36m<module>\u001b[0;34m\u001b[0m\n",
      "\u001b[0;31mNameError\u001b[0m: name 'df_clean' is not defined"
     ]
    }
   ],
   "source": [
    "%%time\n",
    "\n",
    "df_clean[['visitnumber']]=df_clean[['visitnumber']].apply(pd.to_numeric)"
   ]
  },
  {
   "cell_type": "code",
   "execution_count": 9,
   "metadata": {},
   "outputs": [
    {
     "name": "stdout",
     "output_type": "stream",
     "text": [
      "CPU times: user 16min 13s, sys: 54.7 s, total: 17min 8s\n",
      "Wall time: 17min 9s\n"
     ]
    }
   ],
   "source": [
    "%%time\n",
    "\n",
    "## Try!!!!\n",
    "dff = df_clean.copy()\n",
    "dff = dff.groupby('visitid').fillna(method = 'ffill')\n",
    "dff['visitid'] = df_clean['visitid']"
   ]
  },
  {
   "cell_type": "code",
   "execution_count": 10,
   "metadata": {},
   "outputs": [
    {
     "name": "stdout",
     "output_type": "stream",
     "text": [
      "CPU times: user 16min 20s, sys: 24.9 s, total: 16min 45s\n",
      "Wall time: 16min 45s\n"
     ]
    }
   ],
   "source": [
    "%%time\n",
    "\n",
    "dff = dff.groupby('visitid').fillna(method = \"bfill\")"
   ]
  },
  {
   "cell_type": "code",
   "execution_count": 12,
   "metadata": {},
   "outputs": [],
   "source": [
    "dff['visitid'] = df_clean['visitid']"
   ]
  },
  {
   "cell_type": "code",
   "execution_count": 13,
   "metadata": {
    "scrolled": true
   },
   "outputs": [
    {
     "name": "stdout",
     "output_type": "stream",
     "text": [
      "CPU times: user 1.75 s, sys: 3.79 ms, total: 1.76 s\n",
      "Wall time: 1.76 s\n"
     ]
    }
   ],
   "source": [
    "%%time\n",
    "\n",
    "df_clean = dff.copy()\n",
    "df_clean[['remove_email']] = df_clean[['emailsubscriptionremove']].notnull()\n",
    "df_clean[['close_look']] = df_clean[['refinementattribute2']].notnull()\n",
    "df_clean[['error_message']] = df_clean[['prop50']].notnull()\n",
    "\n",
    "df_clean[['clicktag']] = df_clean[['clicktag']].fillna('Noclick')\n",
    "df_clean[['prop29']] = df_clean[['prop29']].fillna('unknown')\n",
    "df_clean[['evar28']] = df_clean[['evar28']].fillna('unknown')\n",
    "df_clean[['prop33']] = df_clean[['prop33']].fillna('unknown')\n",
    "df_clean['productfindingmethods'] = df_clean['productfindingmethods'].fillna('other')\n",
    "df_clean[['evar89']] = df_clean[['evar89']].fillna('unknown')\n",
    "\n",
    "df_clean[['attempt_promo']] = df_clean[['evar16']].notnull()\n",
    "df_clean[['prop44']] = df_clean[['prop44']].fillna('Others')\n",
    "\n",
    "df_clean[['made_purchase']] = df_clean[['ordernumber']].notnull()"
   ]
  },
  {
   "cell_type": "markdown",
   "metadata": {},
   "source": [
    "## Drop Columns"
   ]
  },
  {
   "cell_type": "code",
   "execution_count": 14,
   "metadata": {},
   "outputs": [],
   "source": [
    "df_clean = df_clean.drop(['ordernumber', 'emailsubscriptionremove', 'refinementattribute2',\n",
    "                          'prop50', 'visitid', 'visitnumber', 'evar16'],\n",
    "                          axis=1)"
   ]
  },
  {
   "cell_type": "code",
   "execution_count": 15,
   "metadata": {
    "scrolled": true
   },
   "outputs": [
    {
     "data": {
      "text/plain": [
       "calculatorengagement     85.20075\n",
       "state                    61.62225\n",
       "myaccountengagement      52.09100\n",
       "evar83                   43.83150\n",
       "clickactiontype           0.00000\n",
       "attempt_promo             0.00000\n",
       "error_message             0.00000\n",
       "close_look                0.00000\n",
       "remove_email              0.00000\n",
       "visitday                  0.00000\n",
       "evar89                    0.00000\n",
       "devicetype                0.00000\n",
       "clicktag                  0.00000\n",
       "clickcontexttype          0.00000\n",
       "evar28                    0.00000\n",
       "productfindingmethods     0.00000\n",
       "monthlyvisitor            0.00000\n",
       "newvisit                  0.00000\n",
       "geocountry                0.00000\n",
       "connectiontype            0.00000\n",
       "color                     0.00000\n",
       "prop44                    0.00000\n",
       "prop33                    0.00000\n",
       "prop29                    0.00000\n",
       "service                   0.00000\n",
       "made_purchase             0.00000\n",
       "dtype: float64"
      ]
     },
     "execution_count": 15,
     "metadata": {},
     "output_type": "execute_result"
    }
   ],
   "source": [
    "df_clean.isnull().mean().round(10).mul(100).sort_values(ascending=False)"
   ]
  },
  {
   "cell_type": "code",
   "execution_count": 16,
   "metadata": {},
   "outputs": [
    {
     "name": "stdout",
     "output_type": "stream",
     "text": [
      "CPU times: user 383 ms, sys: 0 ns, total: 383 ms\n",
      "Wall time: 381 ms\n"
     ]
    }
   ],
   "source": [
    "%%time\n",
    "\n",
    "corr_matrix = df_clean.corr().abs()\n",
    "\n",
    "high_corr_var=np.where(corr_matrix>0.7)\n",
    "high_corr_var=[(corr_matrix.columns[x],corr_matrix.columns[y]) for x,y in zip(*high_corr_var) if x!=y and x<y]"
   ]
  },
  {
   "cell_type": "code",
   "execution_count": 17,
   "metadata": {
    "scrolled": true
   },
   "outputs": [
    {
     "data": {
      "text/plain": [
       "[]"
      ]
     },
     "execution_count": 17,
     "metadata": {},
     "output_type": "execute_result"
    }
   ],
   "source": [
    "high_corr_var"
   ]
  },
  {
   "cell_type": "code",
   "execution_count": 18,
   "metadata": {},
   "outputs": [],
   "source": [
    "# export dataframe\n",
    "\n",
    "df_clean.to_csv('df_clean_final.csv')"
   ]
  },
  {
   "cell_type": "markdown",
   "metadata": {},
   "source": [
    "## Resample data (bootstrap)"
   ]
  },
  {
   "cell_type": "code",
   "execution_count": 39,
   "metadata": {},
   "outputs": [
    {
     "data": {
      "text/html": [
       "<div>\n",
       "<style scoped>\n",
       "    .dataframe tbody tr th:only-of-type {\n",
       "        vertical-align: middle;\n",
       "    }\n",
       "\n",
       "    .dataframe tbody tr th {\n",
       "        vertical-align: top;\n",
       "    }\n",
       "\n",
       "    .dataframe thead th {\n",
       "        text-align: right;\n",
       "    }\n",
       "</style>\n",
       "<table border=\"1\" class=\"dataframe\">\n",
       "  <thead>\n",
       "    <tr style=\"text-align: right;\">\n",
       "      <th></th>\n",
       "      <th>myaccountengagement</th>\n",
       "      <th>calculatorengagement</th>\n",
       "      <th>service</th>\n",
       "      <th>prop29</th>\n",
       "      <th>prop33</th>\n",
       "      <th>prop44</th>\n",
       "      <th>state</th>\n",
       "      <th>color</th>\n",
       "      <th>connectiontype</th>\n",
       "      <th>geocountry</th>\n",
       "      <th>newvisit</th>\n",
       "      <th>monthlyvisitor</th>\n",
       "      <th>productfindingmethods</th>\n",
       "      <th>evar28</th>\n",
       "      <th>clickactiontype</th>\n",
       "      <th>clickcontexttype</th>\n",
       "      <th>clicktag</th>\n",
       "      <th>devicetype</th>\n",
       "      <th>evar83</th>\n",
       "      <th>evar89</th>\n",
       "      <th>visitday</th>\n",
       "      <th>remove_email</th>\n",
       "      <th>close_look</th>\n",
       "      <th>error_message</th>\n",
       "      <th>attempt_promo</th>\n",
       "      <th>made_purchase</th>\n",
       "    </tr>\n",
       "  </thead>\n",
       "  <tbody>\n",
       "    <tr>\n",
       "      <th>17892595</th>\n",
       "      <td>65.0</td>\n",
       "      <td>0.0</td>\n",
       "      <td>pe</td>\n",
       "      <td>New</td>\n",
       "      <td>New</td>\n",
       "      <td>Fetti</td>\n",
       "      <td>NC</td>\n",
       "      <td>2</td>\n",
       "      <td>2</td>\n",
       "      <td>usa</td>\n",
       "      <td>0</td>\n",
       "      <td>0</td>\n",
       "      <td>other</td>\n",
       "      <td>unknown</td>\n",
       "      <td>0</td>\n",
       "      <td>1</td>\n",
       "      <td>A</td>\n",
       "      <td>Desktop</td>\n",
       "      <td>NaN</td>\n",
       "      <td>unknown</td>\n",
       "      <td>12</td>\n",
       "      <td>True</td>\n",
       "      <td>False</td>\n",
       "      <td>False</td>\n",
       "      <td>False</td>\n",
       "      <td>False</td>\n",
       "    </tr>\n",
       "    <tr>\n",
       "      <th>4302256</th>\n",
       "      <td>NaN</td>\n",
       "      <td>NaN</td>\n",
       "      <td>pe</td>\n",
       "      <td>New</td>\n",
       "      <td>unknown</td>\n",
       "      <td>FreshStart</td>\n",
       "      <td>NaN</td>\n",
       "      <td>1</td>\n",
       "      <td>2</td>\n",
       "      <td>usa</td>\n",
       "      <td>0</td>\n",
       "      <td>0</td>\n",
       "      <td>other</td>\n",
       "      <td>6_Missing_Other</td>\n",
       "      <td>0</td>\n",
       "      <td>1</td>\n",
       "      <td>A</td>\n",
       "      <td>Tablet</td>\n",
       "      <td>414.0</td>\n",
       "      <td>unknown</td>\n",
       "      <td>10</td>\n",
       "      <td>True</td>\n",
       "      <td>False</td>\n",
       "      <td>False</td>\n",
       "      <td>False</td>\n",
       "      <td>False</td>\n",
       "    </tr>\n",
       "    <tr>\n",
       "      <th>16191571</th>\n",
       "      <td>NaN</td>\n",
       "      <td>NaN</td>\n",
       "      <td>pe</td>\n",
       "      <td>unknown</td>\n",
       "      <td>unknown</td>\n",
       "      <td>Fetti</td>\n",
       "      <td>NaN</td>\n",
       "      <td>2</td>\n",
       "      <td>4</td>\n",
       "      <td>usa</td>\n",
       "      <td>0</td>\n",
       "      <td>0</td>\n",
       "      <td>other</td>\n",
       "      <td>unknown</td>\n",
       "      <td>0</td>\n",
       "      <td>0</td>\n",
       "      <td>A</td>\n",
       "      <td>Mobile</td>\n",
       "      <td>NaN</td>\n",
       "      <td>unknown</td>\n",
       "      <td>12</td>\n",
       "      <td>True</td>\n",
       "      <td>False</td>\n",
       "      <td>False</td>\n",
       "      <td>False</td>\n",
       "      <td>False</td>\n",
       "    </tr>\n",
       "    <tr>\n",
       "      <th>1373534</th>\n",
       "      <td>66.0</td>\n",
       "      <td>NaN</td>\n",
       "      <td>pe</td>\n",
       "      <td>Mature</td>\n",
       "      <td>unknown</td>\n",
       "      <td>Fetti</td>\n",
       "      <td>NaN</td>\n",
       "      <td>1</td>\n",
       "      <td>2</td>\n",
       "      <td>usa</td>\n",
       "      <td>0</td>\n",
       "      <td>0</td>\n",
       "      <td>other</td>\n",
       "      <td>3_Expandable_Mature</td>\n",
       "      <td>3</td>\n",
       "      <td>1</td>\n",
       "      <td>SUBMIT</td>\n",
       "      <td>Mobile</td>\n",
       "      <td>518.0</td>\n",
       "      <td>unknown</td>\n",
       "      <td>10</td>\n",
       "      <td>True</td>\n",
       "      <td>False</td>\n",
       "      <td>False</td>\n",
       "      <td>False</td>\n",
       "      <td>False</td>\n",
       "    </tr>\n",
       "    <tr>\n",
       "      <th>18646137</th>\n",
       "      <td>68.0</td>\n",
       "      <td>0.0</td>\n",
       "      <td>ss</td>\n",
       "      <td>New</td>\n",
       "      <td>New</td>\n",
       "      <td>Fetti</td>\n",
       "      <td>LA</td>\n",
       "      <td>2</td>\n",
       "      <td>2</td>\n",
       "      <td>usa</td>\n",
       "      <td>0</td>\n",
       "      <td>0</td>\n",
       "      <td>other</td>\n",
       "      <td>6_Missing_Other</td>\n",
       "      <td>0</td>\n",
       "      <td>0</td>\n",
       "      <td>Noclick</td>\n",
       "      <td>Tablet</td>\n",
       "      <td>445.0</td>\n",
       "      <td>unknown</td>\n",
       "      <td>12</td>\n",
       "      <td>True</td>\n",
       "      <td>False</td>\n",
       "      <td>False</td>\n",
       "      <td>False</td>\n",
       "      <td>False</td>\n",
       "    </tr>\n",
       "  </tbody>\n",
       "</table>\n",
       "</div>"
      ],
      "text/plain": [
       "          myaccountengagement  calculatorengagement service   prop29   prop33  \\\n",
       "17892595                 65.0                   0.0      pe      New      New   \n",
       "4302256                   NaN                   NaN      pe      New  unknown   \n",
       "16191571                  NaN                   NaN      pe  unknown  unknown   \n",
       "1373534                  66.0                   NaN      pe   Mature  unknown   \n",
       "18646137                 68.0                   0.0      ss      New      New   \n",
       "\n",
       "              prop44 state  color  connectiontype geocountry  newvisit  \\\n",
       "17892595       Fetti    NC      2               2        usa         0   \n",
       "4302256   FreshStart   NaN      1               2        usa         0   \n",
       "16191571       Fetti   NaN      2               4        usa         0   \n",
       "1373534        Fetti   NaN      1               2        usa         0   \n",
       "18646137       Fetti    LA      2               2        usa         0   \n",
       "\n",
       "          monthlyvisitor productfindingmethods               evar28  \\\n",
       "17892595               0                 other              unknown   \n",
       "4302256                0                 other      6_Missing_Other   \n",
       "16191571               0                 other              unknown   \n",
       "1373534                0                 other  3_Expandable_Mature   \n",
       "18646137               0                 other      6_Missing_Other   \n",
       "\n",
       "          clickactiontype  clickcontexttype clicktag devicetype  evar83  \\\n",
       "17892595                0                 1        A    Desktop     NaN   \n",
       "4302256                 0                 1        A     Tablet   414.0   \n",
       "16191571                0                 0        A     Mobile     NaN   \n",
       "1373534                 3                 1   SUBMIT     Mobile   518.0   \n",
       "18646137                0                 0  Noclick     Tablet   445.0   \n",
       "\n",
       "           evar89  visitday  remove_email  close_look  error_message  \\\n",
       "17892595  unknown        12          True       False          False   \n",
       "4302256   unknown        10          True       False          False   \n",
       "16191571  unknown        12          True       False          False   \n",
       "1373534   unknown        10          True       False          False   \n",
       "18646137  unknown        12          True       False          False   \n",
       "\n",
       "          attempt_promo  made_purchase  \n",
       "17892595          False          False  \n",
       "4302256           False          False  \n",
       "16191571          False          False  \n",
       "1373534           False          False  \n",
       "18646137          False          False  "
      ]
     },
     "execution_count": 39,
     "metadata": {},
     "output_type": "execute_result"
    }
   ],
   "source": [
    "df_clean = pd.read_csv('df_clean_final.csv', index_col=0)\n",
    "df_clean.head()"
   ]
  },
  {
   "cell_type": "code",
   "execution_count": 40,
   "metadata": {},
   "outputs": [
    {
     "name": "stdout",
     "output_type": "stream",
     "text": [
      "CPU times: user 239 ms, sys: 0 ns, total: 239 ms\n",
      "Wall time: 239 ms\n"
     ]
    }
   ],
   "source": [
    "%%time\n",
    "\n",
    "df_purchase = df_clean[df_clean['made_purchase']==1]\n",
    "df_not_purchase = df_clean[df_clean['made_purchase']==0]\n",
    "\n",
    "df_purchase_sample= df_purchase.sample(200000, random_state = 2001, replace=True)\n",
    "df_not_purchase_sample = df_not_purchase.sample(200000, random_state = 2001, replace=True)\n",
    "df_sample = pd.concat([df_purchase_sample, df_not_purchase_sample])"
   ]
  },
  {
   "cell_type": "code",
   "execution_count": 24,
   "metadata": {},
   "outputs": [],
   "source": [
    "df_clean = df_sample.copy()"
   ]
  },
  {
   "cell_type": "code",
   "execution_count": 25,
   "metadata": {},
   "outputs": [],
   "source": [
    "# export dataframe\n",
    "\n",
    "df_clean.to_csv('df_clean_sampled.csv')"
   ]
  },
  {
   "cell_type": "markdown",
   "metadata": {},
   "source": [
    "## Gradient Boosting Classifier"
   ]
  },
  {
   "cell_type": "code",
   "execution_count": 27,
   "metadata": {},
   "outputs": [],
   "source": [
    "from sklearn.model_selection import RandomizedSearchCV, train_test_split\n",
    "from sklearn.preprocessing import LabelEncoder\n",
    "from sklearn.ensemble import HistGradientBoostingClassifier"
   ]
  },
  {
   "cell_type": "code",
   "execution_count": 28,
   "metadata": {},
   "outputs": [
    {
     "name": "stdout",
     "output_type": "stream",
     "text": [
      "CPU times: user 2.08 s, sys: 19.8 ms, total: 2.1 s\n",
      "Wall time: 2.1 s\n"
     ]
    }
   ],
   "source": [
    "%%time\n",
    "\n",
    "for column in df_clean.columns:\n",
    "    le = LabelEncoder()\n",
    "    labels = le.fit_transform(df_clean[column])\n",
    "    df_clean[column] = labels"
   ]
  },
  {
   "cell_type": "code",
   "execution_count": 29,
   "metadata": {},
   "outputs": [],
   "source": [
    "# Split the data into features (X) and target (y)\n",
    "X = df_clean.drop(['made_purchase'], axis=1)\n",
    "y = df_clean['made_purchase']\n",
    "\n",
    "# Split the data into training and test sets\n",
    "X_train, X_test, y_train, y_test = train_test_split(X, y, test_size=0.2)"
   ]
  },
  {
   "cell_type": "code",
   "execution_count": 30,
   "metadata": {},
   "outputs": [
    {
     "name": "stdout",
     "output_type": "stream",
     "text": [
      "CPU times: user 1min 31s, sys: 3.19 s, total: 1min 34s\n",
      "Wall time: 8.72 s\n"
     ]
    },
    {
     "data": {
      "text/plain": [
       "HistGradientBoostingClassifier()"
      ]
     },
     "execution_count": 30,
     "metadata": {},
     "output_type": "execute_result"
    }
   ],
   "source": [
    "%%time\n",
    "\n",
    "clf = HistGradientBoostingClassifier().fit(X, y)\n",
    "clf.fit(X_train, y_train)"
   ]
  },
  {
   "cell_type": "code",
   "execution_count": 31,
   "metadata": {},
   "outputs": [
    {
     "data": {
      "text/plain": [
       "0.9833"
      ]
     },
     "execution_count": 31,
     "metadata": {},
     "output_type": "execute_result"
    }
   ],
   "source": [
    "clf.score(X_test, y_test)"
   ]
  },
  {
   "cell_type": "code",
   "execution_count": 32,
   "metadata": {},
   "outputs": [
    {
     "data": {
      "image/png": "[encoded data removed]",
      "text/plain": [
       "<Figure size 640x480 with 1 Axes>"
      ]
     },
     "metadata": {},
     "output_type": "display_data"
    }
   ],
   "source": [
    "# ROC curve\n",
    "\n",
    "probs = clf.predict_proba(X_test)\n",
    "preds = probs[:,1]\n",
    "fpr, tpr, threshold = metrics.roc_curve(y_test, preds)\n",
    "roc_auc = metrics.auc(fpr, tpr)\n",
    "\n",
    "plt.title('ROC Curve (Gradient Boosting)')\n",
    "plt.plot(fpr, tpr, 'b', label = 'AUC = %0.2f' % roc_auc)\n",
    "plt.legend(loc = 'lower right')\n",
    "plt.plot([0, 1], [0, 1],'r--')\n",
    "plt.xlim([0, 1])\n",
    "plt.ylim([0, 1])\n",
    "plt.ylabel('True Positive Rate')\n",
    "plt.xlabel('False Positive Rate')\n",
    "plt.show()"
   ]
  },
  {
   "cell_type": "markdown",
   "metadata": {},
   "source": [
    "## XGBoost"
   ]
  },
  {
   "cell_type": "code",
   "execution_count": 36,
   "metadata": {},
   "outputs": [
    {
     "ename": "ModuleNotFoundError",
     "evalue": "No module named 'xgboost'",
     "output_type": "error",
     "traceback": [
      "\u001b[0;31m---------------------------------------------------------------------------\u001b[0m",
      "\u001b[0;31mModuleNotFoundError\u001b[0m                       Traceback (most recent call last)",
      "\u001b[0;32m/tmp/ipykernel_1234/1052726035.py\u001b[0m in \u001b[0;36m<module>\u001b[0;34m\u001b[0m\n\u001b[0;32m----> 1\u001b[0;31m \u001b[0;32mimport\u001b[0m \u001b[0mxgboost\u001b[0m\u001b[0;34m\u001b[0m\u001b[0;34m\u001b[0m\u001b[0m\n\u001b[0m\u001b[1;32m      2\u001b[0m \u001b[0;32mfrom\u001b[0m \u001b[0mxgboost\u001b[0m \u001b[0;32mimport\u001b[0m \u001b[0mXGBClassifier\u001b[0m\u001b[0;34m\u001b[0m\u001b[0;34m\u001b[0m\u001b[0m\n\u001b[1;32m      3\u001b[0m \u001b[0;32mfrom\u001b[0m \u001b[0mxgboost\u001b[0m \u001b[0;32mimport\u001b[0m \u001b[0mplot_importance\u001b[0m\u001b[0;34m\u001b[0m\u001b[0;34m\u001b[0m\u001b[0m\n",
      "\u001b[0;31mModuleNotFoundError\u001b[0m: No module named 'xgboost'"
     ]
    }
   ],
   "source": [
    "import xgboost\n",
    "from xgboost import XGBClassifier\n",
    "from xgboost import plot_importance"
   ]
  },
  {
   "cell_type": "code",
   "execution_count": 39,
   "metadata": {},
   "outputs": [
    {
     "data": {
      "text/html": [
       "<style>#sk-container-id-2 {color: black;background-color: white;}#sk-container-id-2 pre{padding: 0;}#sk-container-id-2 div.sk-toggleable {background-color: white;}#sk-container-id-2 label.sk-toggleable__label {cursor: pointer;display: block;width: 100%;margin-bottom: 0;padding: 0.3em;box-sizing: border-box;text-align: center;}#sk-container-id-2 label.sk-toggleable__label-arrow:before {content: \"▸\";float: left;margin-right: 0.25em;color: #696969;}#sk-container-id-2 label.sk-toggleable__label-arrow:hover:before {color: black;}#sk-container-id-2 div.sk-estimator:hover label.sk-toggleable__label-arrow:before {color: black;}#sk-container-id-2 div.sk-toggleable__content {max-height: 0;max-width: 0;overflow: hidden;text-align: left;background-color: #f0f8ff;}#sk-container-id-2 div.sk-toggleable__content pre {margin: 0.2em;color: black;border-radius: 0.25em;background-color: #f0f8ff;}#sk-container-id-2 input.sk-toggleable__control:checked~div.sk-toggleable__content {max-height: 200px;max-width: 100%;overflow: auto;}#sk-container-id-2 input.sk-toggleable__control:checked~label.sk-toggleable__label-arrow:before {content: \"▾\";}#sk-container-id-2 div.sk-estimator input.sk-toggleable__control:checked~label.sk-toggleable__label {background-color: #d4ebff;}#sk-container-id-2 div.sk-label input.sk-toggleable__control:checked~label.sk-toggleable__label {background-color: #d4ebff;}#sk-container-id-2 input.sk-hidden--visually {border: 0;clip: rect(1px 1px 1px 1px);clip: rect(1px, 1px, 1px, 1px);height: 1px;margin: -1px;overflow: hidden;padding: 0;position: absolute;width: 1px;}#sk-container-id-2 div.sk-estimator {font-family: monospace;background-color: #f0f8ff;border: 1px dotted black;border-radius: 0.25em;box-sizing: border-box;margin-bottom: 0.5em;}#sk-container-id-2 div.sk-estimator:hover {background-color: #d4ebff;}#sk-container-id-2 div.sk-parallel-item::after {content: \"\";width: 100%;border-bottom: 1px solid gray;flex-grow: 1;}#sk-container-id-2 div.sk-label:hover label.sk-toggleable__label {background-color: #d4ebff;}#sk-container-id-2 div.sk-serial::before {content: \"\";position: absolute;border-left: 1px solid gray;box-sizing: border-box;top: 0;bottom: 0;left: 50%;z-index: 0;}#sk-container-id-2 div.sk-serial {display: flex;flex-direction: column;align-items: center;background-color: white;padding-right: 0.2em;padding-left: 0.2em;position: relative;}#sk-container-id-2 div.sk-item {position: relative;z-index: 1;}#sk-container-id-2 div.sk-parallel {display: flex;align-items: stretch;justify-content: center;background-color: white;position: relative;}#sk-container-id-2 div.sk-item::before, #sk-container-id-2 div.sk-parallel-item::before {content: \"\";position: absolute;border-left: 1px solid gray;box-sizing: border-box;top: 0;bottom: 0;left: 50%;z-index: -1;}#sk-container-id-2 div.sk-parallel-item {display: flex;flex-direction: column;z-index: 1;position: relative;background-color: white;}#sk-container-id-2 div.sk-parallel-item:first-child::after {align-self: flex-end;width: 50%;}#sk-container-id-2 div.sk-parallel-item:last-child::after {align-self: flex-start;width: 50%;}#sk-container-id-2 div.sk-parallel-item:only-child::after {width: 0;}#sk-container-id-2 div.sk-dashed-wrapped {border: 1px dashed gray;margin: 0 0.4em 0.5em 0.4em;box-sizing: border-box;padding-bottom: 0.4em;background-color: white;}#sk-container-id-2 div.sk-label label {font-family: monospace;font-weight: bold;display: inline-block;line-height: 1.2em;}#sk-container-id-2 div.sk-label-container {text-align: center;}#sk-container-id-2 div.sk-container {/* jupyter's `normalize.less` sets `[hidden] { display: none; }` but bootstrap.min.css set `[hidden] { display: none !important; }` so we also need the `!important` here to be able to override the default hidden behavior on the sphinx rendered scikit-learn.org. See: https://github.com/scikit-learn/scikit-learn/issues/21755 */display: inline-block !important;position: relative;}#sk-container-id-2 div.sk-text-repr-fallback {display: none;}</style><div id=\"sk-container-id-2\" class=\"sk-top-container\"><div class=\"sk-text-repr-fallback\"><pre>XGBClassifier(base_score=None, booster=None, callbacks=None,\n",
       "              colsample_bylevel=None, colsample_bynode=None,\n",
       "              colsample_bytree=None, early_stopping_rounds=None,\n",
       "              enable_categorical=False, eval_metric=None, feature_types=None,\n",
       "              gamma=None, gpu_id=None, grow_policy=None, importance_type=None,\n",
       "              interaction_constraints=None, learning_rate=None, max_bin=None,\n",
       "              max_cat_threshold=None, max_cat_to_onehot=None,\n",
       "              max_delta_step=None, max_depth=None, max_leaves=None,\n",
       "              min_child_weight=None, missing=nan, monotone_constraints=None,\n",
       "              n_estimators=100, n_jobs=None, num_parallel_tree=None,\n",
       "              predictor=None, random_state=None, ...)</pre><b>In a Jupyter environment, please rerun this cell to show the HTML representation or trust the notebook. <br />On GitHub, the HTML representation is unable to render, please try loading this page with nbviewer.org.</b></div><div class=\"sk-container\" hidden><div class=\"sk-item\"><div class=\"sk-estimator sk-toggleable\"><input class=\"sk-toggleable__control sk-hidden--visually\" id=\"sk-estimator-id-2\" type=\"checkbox\" checked><label for=\"sk-estimator-id-2\" class=\"sk-toggleable__label sk-toggleable__label-arrow\">XGBClassifier</label><div class=\"sk-toggleable__content\"><pre>XGBClassifier(base_score=None, booster=None, callbacks=None,\n",
       "              colsample_bylevel=None, colsample_bynode=None,\n",
       "              colsample_bytree=None, early_stopping_rounds=None,\n",
       "              enable_categorical=False, eval_metric=None, feature_types=None,\n",
       "              gamma=None, gpu_id=None, grow_policy=None, importance_type=None,\n",
       "              interaction_constraints=None, learning_rate=None, max_bin=None,\n",
       "              max_cat_threshold=None, max_cat_to_onehot=None,\n",
       "              max_delta_step=None, max_depth=None, max_leaves=None,\n",
       "              min_child_weight=None, missing=nan, monotone_constraints=None,\n",
       "              n_estimators=100, n_jobs=None, num_parallel_tree=None,\n",
       "              predictor=None, random_state=None, ...)</pre></div></div></div></div></div>"
      ],
      "text/plain": [
       "XGBClassifier(base_score=None, booster=None, callbacks=None,\n",
       "              colsample_bylevel=None, colsample_bynode=None,\n",
       "              colsample_bytree=None, early_stopping_rounds=None,\n",
       "              enable_categorical=False, eval_metric=None, feature_types=None,\n",
       "              gamma=None, gpu_id=None, grow_policy=None, importance_type=None,\n",
       "              interaction_constraints=None, learning_rate=None, max_bin=None,\n",
       "              max_cat_threshold=None, max_cat_to_onehot=None,\n",
       "              max_delta_step=None, max_depth=None, max_leaves=None,\n",
       "              min_child_weight=None, missing=nan, monotone_constraints=None,\n",
       "              n_estimators=100, n_jobs=None, num_parallel_tree=None,\n",
       "              predictor=None, random_state=None, ...)"
      ]
     },
     "execution_count": 39,
     "metadata": {},
     "output_type": "execute_result"
    }
   ],
   "source": [
    "xgb_model = XGBClassifier()\n",
    "xgb_model.fit(X_train, y_train)"
   ]
  },
  {
   "cell_type": "code",
   "execution_count": 40,
   "metadata": {},
   "outputs": [
    {
     "data": {
      "text/plain": [
       "0.9658044366140787"
      ]
     },
     "execution_count": 40,
     "metadata": {},
     "output_type": "execute_result"
    }
   ],
   "source": [
    "xgb_model.score(X_test, y_test)"
   ]
  },
  {
   "cell_type": "code",
   "execution_count": 44,
   "metadata": {},
   "outputs": [],
   "source": [
    "from matplotlib import pyplot as plt"
   ]
  },
  {
   "cell_type": "code",
   "execution_count": 42,
   "metadata": {
    "scrolled": false
   },
   "outputs": [
    {
     "data": {
      "text/plain": [
       "<Figure size 1440x576 with 0 Axes>"
      ]
     },
     "metadata": {},
     "output_type": "display_data"
    },
    {
     "data": {
      "image/png": "[encoded data removed]",
      "text/plain": [
       "<Figure size 432x288 with 1 Axes>"
      ]
     },
     "metadata": {
      "needs_background": "light"
     },
     "output_type": "display_data"
    }
   ],
   "source": [
    "plt.figure(figsize=(20,8))\n",
    "plot_importance(xgb_model)\n",
    "plt.show()"
   ]
  },
  {
   "cell_type": "markdown",
   "metadata": {},
   "source": [
    "## "
   ]
  },
  {
   "cell_type": "markdown",
   "metadata": {},
   "source": [
    "## Random Forest"
   ]
  },
  {
   "cell_type": "code",
   "execution_count": 48,
   "metadata": {},
   "outputs": [
    {
     "data": {
      "text/plain": [
       "False"
      ]
     },
     "execution_count": 48,
     "metadata": {},
     "output_type": "execute_result"
    }
   ],
   "source": [
    "# check if dataframe contains any NaN\n",
    "df_clean.isnull().values.any()"
   ]
  },
  {
   "cell_type": "code",
   "execution_count": 42,
   "metadata": {},
   "outputs": [],
   "source": [
    "from sklearn.model_selection import train_test_split\n",
    "from sklearn.ensemble import RandomForestClassifier\n",
    "import seaborn as sns\n",
    "from sklearn.metrics import confusion_matrix, ConfusionMatrixDisplay"
   ]
  },
  {
   "cell_type": "code",
   "execution_count": 54,
   "metadata": {},
   "outputs": [],
   "source": [
    "X = df_clean.drop(['made_purchase'], axis=1)\n",
    "y = df_clean['made_purchase']"
   ]
  },
  {
   "cell_type": "code",
   "execution_count": 55,
   "metadata": {},
   "outputs": [
    {
     "name": "stderr",
     "output_type": "stream",
     "text": [
      "/Users/amytang10/opt/anaconda3/lib/python3.8/site-packages/sklearn/ensemble/_forest.py:424: FutureWarning: `max_features='auto'` has been deprecated in 1.1 and will be removed in 1.3. To keep the past behaviour, explicitly set `max_features='sqrt'` or remove this parameter as it is also the default value for RandomForestClassifiers and ExtraTreesClassifiers.\n",
      "  warn(\n"
     ]
    },
    {
     "data": {
      "text/html": [
       "<style>#sk-container-id-3 {color: black;background-color: white;}#sk-container-id-3 pre{padding: 0;}#sk-container-id-3 div.sk-toggleable {background-color: white;}#sk-container-id-3 label.sk-toggleable__label {cursor: pointer;display: block;width: 100%;margin-bottom: 0;padding: 0.3em;box-sizing: border-box;text-align: center;}#sk-container-id-3 label.sk-toggleable__label-arrow:before {content: \"▸\";float: left;margin-right: 0.25em;color: #696969;}#sk-container-id-3 label.sk-toggleable__label-arrow:hover:before {color: black;}#sk-container-id-3 div.sk-estimator:hover label.sk-toggleable__label-arrow:before {color: black;}#sk-container-id-3 div.sk-toggleable__content {max-height: 0;max-width: 0;overflow: hidden;text-align: left;background-color: #f0f8ff;}#sk-container-id-3 div.sk-toggleable__content pre {margin: 0.2em;color: black;border-radius: 0.25em;background-color: #f0f8ff;}#sk-container-id-3 input.sk-toggleable__control:checked~div.sk-toggleable__content {max-height: 200px;max-width: 100%;overflow: auto;}#sk-container-id-3 input.sk-toggleable__control:checked~label.sk-toggleable__label-arrow:before {content: \"▾\";}#sk-container-id-3 div.sk-estimator input.sk-toggleable__control:checked~label.sk-toggleable__label {background-color: #d4ebff;}#sk-container-id-3 div.sk-label input.sk-toggleable__control:checked~label.sk-toggleable__label {background-color: #d4ebff;}#sk-container-id-3 input.sk-hidden--visually {border: 0;clip: rect(1px 1px 1px 1px);clip: rect(1px, 1px, 1px, 1px);height: 1px;margin: -1px;overflow: hidden;padding: 0;position: absolute;width: 1px;}#sk-container-id-3 div.sk-estimator {font-family: monospace;background-color: #f0f8ff;border: 1px dotted black;border-radius: 0.25em;box-sizing: border-box;margin-bottom: 0.5em;}#sk-container-id-3 div.sk-estimator:hover {background-color: #d4ebff;}#sk-container-id-3 div.sk-parallel-item::after {content: \"\";width: 100%;border-bottom: 1px solid gray;flex-grow: 1;}#sk-container-id-3 div.sk-label:hover label.sk-toggleable__label {background-color: #d4ebff;}#sk-container-id-3 div.sk-serial::before {content: \"\";position: absolute;border-left: 1px solid gray;box-sizing: border-box;top: 0;bottom: 0;left: 50%;z-index: 0;}#sk-container-id-3 div.sk-serial {display: flex;flex-direction: column;align-items: center;background-color: white;padding-right: 0.2em;padding-left: 0.2em;position: relative;}#sk-container-id-3 div.sk-item {position: relative;z-index: 1;}#sk-container-id-3 div.sk-parallel {display: flex;align-items: stretch;justify-content: center;background-color: white;position: relative;}#sk-container-id-3 div.sk-item::before, #sk-container-id-3 div.sk-parallel-item::before {content: \"\";position: absolute;border-left: 1px solid gray;box-sizing: border-box;top: 0;bottom: 0;left: 50%;z-index: -1;}#sk-container-id-3 div.sk-parallel-item {display: flex;flex-direction: column;z-index: 1;position: relative;background-color: white;}#sk-container-id-3 div.sk-parallel-item:first-child::after {align-self: flex-end;width: 50%;}#sk-container-id-3 div.sk-parallel-item:last-child::after {align-self: flex-start;width: 50%;}#sk-container-id-3 div.sk-parallel-item:only-child::after {width: 0;}#sk-container-id-3 div.sk-dashed-wrapped {border: 1px dashed gray;margin: 0 0.4em 0.5em 0.4em;box-sizing: border-box;padding-bottom: 0.4em;background-color: white;}#sk-container-id-3 div.sk-label label {font-family: monospace;font-weight: bold;display: inline-block;line-height: 1.2em;}#sk-container-id-3 div.sk-label-container {text-align: center;}#sk-container-id-3 div.sk-container {/* jupyter's `normalize.less` sets `[hidden] { display: none; }` but bootstrap.min.css set `[hidden] { display: none !important; }` so we also need the `!important` here to be able to override the default hidden behavior on the sphinx rendered scikit-learn.org. See: https://github.com/scikit-learn/scikit-learn/issues/21755 */display: inline-block !important;position: relative;}#sk-container-id-3 div.sk-text-repr-fallback {display: none;}</style><div id=\"sk-container-id-3\" class=\"sk-top-container\"><div class=\"sk-text-repr-fallback\"><pre>RandomForestClassifier(max_features=&#x27;auto&#x27;, n_estimators=50, random_state=44)</pre><b>In a Jupyter environment, please rerun this cell to show the HTML representation or trust the notebook. <br />On GitHub, the HTML representation is unable to render, please try loading this page with nbviewer.org.</b></div><div class=\"sk-container\" hidden><div class=\"sk-item\"><div class=\"sk-estimator sk-toggleable\"><input class=\"sk-toggleable__control sk-hidden--visually\" id=\"sk-estimator-id-3\" type=\"checkbox\" checked><label for=\"sk-estimator-id-3\" class=\"sk-toggleable__label sk-toggleable__label-arrow\">RandomForestClassifier</label><div class=\"sk-toggleable__content\"><pre>RandomForestClassifier(max_features=&#x27;auto&#x27;, n_estimators=50, random_state=44)</pre></div></div></div></div></div>"
      ],
      "text/plain": [
       "RandomForestClassifier(max_features='auto', n_estimators=50, random_state=44)"
      ]
     },
     "execution_count": 55,
     "metadata": {},
     "output_type": "execute_result"
    }
   ],
   "source": [
    "X_train, X_test, y_train, y_test = train_test_split(X, y, test_size=0.3, random_state=44)\n",
    "rf_model = RandomForestClassifier(n_estimators=50, max_features=\"auto\", random_state=44)\n",
    "rf_model.fit(X_train, y_train)"
   ]
  },
  {
   "cell_type": "code",
   "execution_count": 56,
   "metadata": {},
   "outputs": [
    {
     "data": {
      "text/plain": [
       "0.9739462374202504"
      ]
     },
     "execution_count": 56,
     "metadata": {},
     "output_type": "execute_result"
    }
   ],
   "source": [
    "rf_model.score(X_test, y_test)"
   ]
  },
  {
   "cell_type": "code",
   "execution_count": 61,
   "metadata": {},
   "outputs": [],
   "source": [
    "def plot_feature_importance(importance,names,model_type):\n",
    "\n",
    "    #Create arrays from feature importance and feature names\n",
    "    feature_importance = np.array(importance)\n",
    "    feature_names = np.array(names)\n",
    "\n",
    "    #Create a DataFrame using a Dictionary\n",
    "    data={'feature_names':feature_names,'feature_importance':feature_importance}\n",
    "    fi_df = pd.DataFrame(data)\n",
    "\n",
    "    #Sort the DataFrame in order decreasing feature importance\n",
    "    fi_df.sort_values(by=['feature_importance'], ascending=False,inplace=True)\n",
    "\n",
    "    #Define size of bar plot\n",
    "    plt.figure(figsize=(10,8))\n",
    "    #Plot Searborn bar chart\n",
    "    sns.barplot(x=fi_df['feature_importance'], y=fi_df['feature_names'])\n",
    "    #Add chart labels\n",
    "    plt.title(model_type + 'FEATURE IMPORTANCE')\n",
    "    plt.xlabel('FEATURE IMPORTANCE')\n",
    "    plt.ylabel('FEATURE NAMES')"
   ]
  },
  {
   "cell_type": "code",
   "execution_count": 65,
   "metadata": {},
   "outputs": [
    {
     "data": {
      "image/png": "[encoded data removed]",
      "text/plain": [
       "<Figure size 720x576 with 1 Axes>"
      ]
     },
     "metadata": {
      "needs_background": "light"
     },
     "output_type": "display_data"
    }
   ],
   "source": [
    "plot_feature_importance(rf_model.feature_importances_, X.columns, 'RANDOM FOREST')"
   ]
  },
  {
   "cell_type": "code",
   "execution_count": 68,
   "metadata": {},
   "outputs": [
    {
     "data": {
      "text/plain": [
       "array([[31791,   415],\n",
       "       [  561,  4694]])"
      ]
     },
     "execution_count": 68,
     "metadata": {},
     "output_type": "execute_result"
    }
   ],
   "source": [
    "y_preds = rf_model.predict(X_test)\n",
    "confusion_matrix(y_test, y_preds)"
   ]
  },
  {
   "cell_type": "code",
   "execution_count": 74,
   "metadata": {},
   "outputs": [
    {
     "data": {
      "image/png": "[encoded data removed]",
      "text/plain": [
       "<Figure size 432x288 with 2 Axes>"
      ]
     },
     "metadata": {
      "needs_background": "light"
     },
     "output_type": "display_data"
    }
   ],
   "source": [
    "cm = confusion_matrix(y_test, y_preds, labels=rf_model.classes_)\n",
    "disp = ConfusionMatrixDisplay(confusion_matrix=cm, display_labels=rf_model.classes_)\n",
    "disp.plot()\n",
    "plt.show()"
   ]
  },
  {
   "cell_type": "markdown",
   "metadata": {},
   "source": [
    "## Logistic Regression"
   ]
  },
  {
   "cell_type": "code",
   "execution_count": 40,
   "metadata": {},
   "outputs": [],
   "source": [
    "from sklearn.linear_model import LogisticRegression\n",
    "from sklearn.metrics import classification_report\n",
    "from sklearn.metrics import confusion_matrix, ConfusionMatrixDisplay"
   ]
  },
  {
   "cell_type": "code",
   "execution_count": 36,
   "metadata": {},
   "outputs": [
    {
     "data": {
      "text/html": [
       "<style>#sk-container-id-2 {color: black;background-color: white;}#sk-container-id-2 pre{padding: 0;}#sk-container-id-2 div.sk-toggleable {background-color: white;}#sk-container-id-2 label.sk-toggleable__label {cursor: pointer;display: block;width: 100%;margin-bottom: 0;padding: 0.3em;box-sizing: border-box;text-align: center;}#sk-container-id-2 label.sk-toggleable__label-arrow:before {content: \"▸\";float: left;margin-right: 0.25em;color: #696969;}#sk-container-id-2 label.sk-toggleable__label-arrow:hover:before {color: black;}#sk-container-id-2 div.sk-estimator:hover label.sk-toggleable__label-arrow:before {color: black;}#sk-container-id-2 div.sk-toggleable__content {max-height: 0;max-width: 0;overflow: hidden;text-align: left;background-color: #f0f8ff;}#sk-container-id-2 div.sk-toggleable__content pre {margin: 0.2em;color: black;border-radius: 0.25em;background-color: #f0f8ff;}#sk-container-id-2 input.sk-toggleable__control:checked~div.sk-toggleable__content {max-height: 200px;max-width: 100%;overflow: auto;}#sk-container-id-2 input.sk-toggleable__control:checked~label.sk-toggleable__label-arrow:before {content: \"▾\";}#sk-container-id-2 div.sk-estimator input.sk-toggleable__control:checked~label.sk-toggleable__label {background-color: #d4ebff;}#sk-container-id-2 div.sk-label input.sk-toggleable__control:checked~label.sk-toggleable__label {background-color: #d4ebff;}#sk-container-id-2 input.sk-hidden--visually {border: 0;clip: rect(1px 1px 1px 1px);clip: rect(1px, 1px, 1px, 1px);height: 1px;margin: -1px;overflow: hidden;padding: 0;position: absolute;width: 1px;}#sk-container-id-2 div.sk-estimator {font-family: monospace;background-color: #f0f8ff;border: 1px dotted black;border-radius: 0.25em;box-sizing: border-box;margin-bottom: 0.5em;}#sk-container-id-2 div.sk-estimator:hover {background-color: #d4ebff;}#sk-container-id-2 div.sk-parallel-item::after {content: \"\";width: 100%;border-bottom: 1px solid gray;flex-grow: 1;}#sk-container-id-2 div.sk-label:hover label.sk-toggleable__label {background-color: #d4ebff;}#sk-container-id-2 div.sk-serial::before {content: \"\";position: absolute;border-left: 1px solid gray;box-sizing: border-box;top: 0;bottom: 0;left: 50%;z-index: 0;}#sk-container-id-2 div.sk-serial {display: flex;flex-direction: column;align-items: center;background-color: white;padding-right: 0.2em;padding-left: 0.2em;position: relative;}#sk-container-id-2 div.sk-item {position: relative;z-index: 1;}#sk-container-id-2 div.sk-parallel {display: flex;align-items: stretch;justify-content: center;background-color: white;position: relative;}#sk-container-id-2 div.sk-item::before, #sk-container-id-2 div.sk-parallel-item::before {content: \"\";position: absolute;border-left: 1px solid gray;box-sizing: border-box;top: 0;bottom: 0;left: 50%;z-index: -1;}#sk-container-id-2 div.sk-parallel-item {display: flex;flex-direction: column;z-index: 1;position: relative;background-color: white;}#sk-container-id-2 div.sk-parallel-item:first-child::after {align-self: flex-end;width: 50%;}#sk-container-id-2 div.sk-parallel-item:last-child::after {align-self: flex-start;width: 50%;}#sk-container-id-2 div.sk-parallel-item:only-child::after {width: 0;}#sk-container-id-2 div.sk-dashed-wrapped {border: 1px dashed gray;margin: 0 0.4em 0.5em 0.4em;box-sizing: border-box;padding-bottom: 0.4em;background-color: white;}#sk-container-id-2 div.sk-label label {font-family: monospace;font-weight: bold;display: inline-block;line-height: 1.2em;}#sk-container-id-2 div.sk-label-container {text-align: center;}#sk-container-id-2 div.sk-container {/* jupyter's `normalize.less` sets `[hidden] { display: none; }` but bootstrap.min.css set `[hidden] { display: none !important; }` so we also need the `!important` here to be able to override the default hidden behavior on the sphinx rendered scikit-learn.org. See: https://github.com/scikit-learn/scikit-learn/issues/21755 */display: inline-block !important;position: relative;}#sk-container-id-2 div.sk-text-repr-fallback {display: none;}</style><div id=\"sk-container-id-2\" class=\"sk-top-container\"><div class=\"sk-text-repr-fallback\"><pre>LogisticRegression(random_state=0, solver=&#x27;liblinear&#x27;)</pre><b>In a Jupyter environment, please rerun this cell to show the HTML representation or trust the notebook. <br />On GitHub, the HTML representation is unable to render, please try loading this page with nbviewer.org.</b></div><div class=\"sk-container\" hidden><div class=\"sk-item\"><div class=\"sk-estimator sk-toggleable\"><input class=\"sk-toggleable__control sk-hidden--visually\" id=\"sk-estimator-id-2\" type=\"checkbox\" checked><label for=\"sk-estimator-id-2\" class=\"sk-toggleable__label sk-toggleable__label-arrow\">LogisticRegression</label><div class=\"sk-toggleable__content\"><pre>LogisticRegression(random_state=0, solver=&#x27;liblinear&#x27;)</pre></div></div></div></div></div>"
      ],
      "text/plain": [
       "LogisticRegression(random_state=0, solver='liblinear')"
      ]
     },
     "execution_count": 36,
     "metadata": {},
     "output_type": "execute_result"
    }
   ],
   "source": [
    "logit_model = LogisticRegression(solver='liblinear', random_state=0)\n",
    "logit_model.fit(X_train, y_train)"
   ]
  },
  {
   "cell_type": "code",
   "execution_count": 37,
   "metadata": {},
   "outputs": [
    {
     "data": {
      "text/plain": [
       "0.8411548009930327"
      ]
     },
     "execution_count": 37,
     "metadata": {},
     "output_type": "execute_result"
    }
   ],
   "source": [
    "logit_model.score(X_test, y_test)"
   ]
  },
  {
   "cell_type": "code",
   "execution_count": 38,
   "metadata": {},
   "outputs": [],
   "source": [
    "y_preds = logit_model.predict(X_test)"
   ]
  },
  {
   "cell_type": "code",
   "execution_count": 45,
   "metadata": {},
   "outputs": [
    {
     "data": {
      "image/png": "[encoded data removed]",
      "text/plain": [
       "<Figure size 432x288 with 2 Axes>"
      ]
     },
     "metadata": {
      "needs_background": "light"
     },
     "output_type": "display_data"
    }
   ],
   "source": [
    "cm = confusion_matrix(y_test, y_preds, labels=logit_model.classes_)\n",
    "disp = ConfusionMatrixDisplay(confusion_matrix=cm, display_labels=logit_model.classes_)\n",
    "disp.plot()\n",
    "plt.show()"
   ]
  },
  {
   "cell_type": "code",
   "execution_count": 46,
   "metadata": {},
   "outputs": [
    {
     "name": "stdout",
     "output_type": "stream",
     "text": [
      "[[ 0.0305493   0.00324809 -0.11127001  0.04553727 -0.13947184 -0.34795625\n",
      "  -0.01718877 -0.0410648  -0.20946622 -0.10881446 -1.00230069 -0.09169133\n",
      "  -0.18237547  0.01173829  0.15517694 -0.03038335  0.05322781 -0.29744498\n",
      "   0.00428084 -0.21613627  0.91657468 -0.23322044  0.15066269  2.8196079 ]] [-0.73295857]\n"
     ]
    }
   ],
   "source": [
    "print(logit_model.coef_, logit_model.intercept_)"
   ]
  },
  {
   "cell_type": "markdown",
   "metadata": {},
   "source": [
    "## Support Vector Machine (took too long to run so will not keep this)"
   ]
  },
  {
   "cell_type": "code",
   "execution_count": 83,
   "metadata": {},
   "outputs": [],
   "source": [
    "from sklearn import svm"
   ]
  },
  {
   "cell_type": "code",
   "execution_count": null,
   "metadata": {},
   "outputs": [],
   "source": [
    "## took too long to run\n",
    "svm_model = svm.SVC()\n",
    "svm_model.fit(X_train, y_train)"
   ]
  },
  {
   "cell_type": "code",
   "execution_count": null,
   "metadata": {},
   "outputs": [],
   "source": [
    "svm_model.score(X_test, y_test)"
   ]
  },
  {
   "cell_type": "code",
   "execution_count": null,
   "metadata": {},
   "outputs": [],
   "source": []
  }
 ],
 "metadata": {
  "kernelspec": {
   "display_name": "Python 3 (ipykernel)",
   "language": "python",
   "name": "python3"
  },
  "language_info": {
   "codemirror_mode": {
    "name": "ipython",
    "version": 3
   },
   "file_extension": ".py",
   "mimetype": "text/x-python",
   "name": "python",
   "nbconvert_exporter": "python",
   "pygments_lexer": "ipython3",
   "version": "3.9.13"
  }
 },
 "nbformat": 4,
 "nbformat_minor": 4
}
